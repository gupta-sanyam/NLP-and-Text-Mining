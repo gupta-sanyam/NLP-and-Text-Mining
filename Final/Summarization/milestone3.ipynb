{
  "cells": [
    {
      "cell_type": "code",
      "execution_count": null,
      "metadata": {
        "colab": {
          "base_uri": "https://localhost:8080/"
        },
        "id": "7w79i38zVGQ3",
        "outputId": "ea92eb3c-9a9f-400b-b5cc-01b8e7222493"
      },
      "outputs": [
        {
          "name": "stdout",
          "output_type": "stream",
          "text": [
            "Requirement already satisfied: sacrebleu in /usr/local/lib/python3.7/dist-packages (2.0.0)\n",
            "Requirement already satisfied: portalocker in /usr/local/lib/python3.7/dist-packages (from sacrebleu) (2.4.0)\n",
            "Requirement already satisfied: numpy>=1.17 in /usr/local/lib/python3.7/dist-packages (from sacrebleu) (1.21.6)\n",
            "Requirement already satisfied: colorama in /usr/local/lib/python3.7/dist-packages (from sacrebleu) (0.4.4)\n",
            "Requirement already satisfied: tabulate>=0.8.9 in /usr/local/lib/python3.7/dist-packages (from sacrebleu) (0.8.9)\n",
            "Requirement already satisfied: regex in /usr/local/lib/python3.7/dist-packages (from sacrebleu) (2019.12.20)\n",
            "Requirement already satisfied: rouge in /usr/local/lib/python3.7/dist-packages (1.0.1)\n",
            "Requirement already satisfied: six in /usr/local/lib/python3.7/dist-packages (from rouge) (1.15.0)\n"
          ]
        }
      ],
      "source": [
        "#Refrence https://www.analyticsvidhya.com/blog/2021/06/language-translation-with-transformer-in-python/\n",
        "\n",
        "!pip install sacrebleu\n",
        "!pip install rouge"
      ]
    },
    {
      "cell_type": "code",
      "execution_count": null,
      "metadata": {
        "id": "5OH8B5OxOPsf"
      },
      "outputs": [],
      "source": [
        "import math\n",
        "import torchtext\n",
        "import torch\n",
        "import torch.nn as nn\n",
        "from torchtext.data.utils import get_tokenizer\n",
        "from collections import Counter\n",
        "# from torchtext.vocab import Vocab\n",
        "\n",
        "from torchtext.vocab import vocab as voc\n",
        "from torchtext.utils import download_from_url, extract_archive\n",
        "from torch.nn.utils.rnn import pad_sequence\n",
        "from torch.utils.data import DataLoader\n",
        "from torch import Tensor\n",
        "from torch.nn import (TransformerEncoder, TransformerDecoder,TransformerEncoderLayer, TransformerDecoderLayer)\n",
        "import io\n",
        "import time\n",
        "import pandas as pd\n",
        "TRAIN_LIMIT = 1000\n",
        "from sacrebleu.metrics import BLEU"
      ]
    },
    {
      "cell_type": "code",
      "execution_count": null,
      "metadata": {
        "id": "bxyRgSuoOUhV"
      },
      "outputs": [],
      "source": [
        "AVG = 219\n",
        "def get_dataset():\n",
        "    fil = open('./processed_task_2_event_summarization_train.tsv')\n",
        "    lines = fil.readlines()\n",
        "    data = []\n",
        "    for line in lines:\n",
        "      [left,right] = line.split('\\t')\n",
        "      \n",
        "      if len(right)<AVG:\n",
        "        data.append(line.split('\\t')) \n",
        "    train_df = pd.DataFrame(data, columns=[ \"input_text\", \"target_text\"])\n",
        "    fil = open('./processed_task_2_event_summarization_valid.tsv')\n",
        "    lines = fil.readlines()\n",
        "    data = []\n",
        "    lens = 0\n",
        "    for line in lines:\n",
        "      [left,right] = line.split('\\t')\n",
        "      \n",
        "      # if len(right)<AVG:\n",
        "      data.append(line.split('\\t')) \n",
        "    \n",
        "    valid_df = pd.DataFrame(data, columns=[ \"input_text\", \"target_text\"])\n",
        "    return train_df,valid_df"
      ]
    },
    {
      "cell_type": "code",
      "execution_count": null,
      "metadata": {
        "id": "wQkXs-V-OW6h"
      },
      "outputs": [],
      "source": [
        "\n",
        "train,valid = get_dataset()\n",
        "train = train[:TRAIN_LIMIT]\n",
        "len(train)\n",
        "\n",
        "# train = train[:TRAIN_LIMIT]\n",
        "# valid = valid\n",
        "def get_training_corpus():\n",
        "  for i in range(len(train)):\n",
        "    line = train[i]\n",
        "    print(line['target_text'])\n",
        "    yield line['target_text'].split()\n",
        "  for i in range(len(valid)):\n",
        "    line = valid[i]\n",
        "    yield line['target_text'].split()\n",
        "\n",
        "tokenizer = get_tokenizer(\"basic_english\")\n",
        "\n",
        "def build_vocab(filepath, tokenizer):\n",
        "  counter = Counter()\n",
        "  for file in filepath:\n",
        "    with io.open(file, encoding=\"utf8\") as f:\n",
        "      for string_ in f:\n",
        "        counter.update(tokenizer(string_))\n",
        "  return voc(counter, specials=['<unk>', '<pad>', '<bos>', '<eos>'])"
      ]
    },
    {
      "cell_type": "code",
      "execution_count": null,
      "metadata": {
        "id": "w7vxL3OkOcP1"
      },
      "outputs": [],
      "source": [
        "vocab = build_vocab(['processed_task_2_event_summarization_train.tsv','processed_task_2_event_summarization_valid.tsv'], tokenizer)\n",
        "\n",
        "vocab.get_stoi()['test']\n",
        "\n",
        "\n",
        "def data_process(train):\n",
        "  data=[]\n",
        "  for i in range(len(train)):      \n",
        "      input_text_tensor_ = torch.tensor([vocab[token] for token in tokenizer(train['input_text'][i])],dtype=torch.long)\n",
        "      target_text_tensor_ = torch.tensor([vocab[token] for token in tokenizer(train['target_text'][i])],dtype=torch.long)\n",
        "      data.append((input_text_tensor_, target_text_tensor_))\n",
        "  return data\n",
        "\n",
        "train_data = data_process(train)\n",
        "valid_data = data_process(valid)\n",
        "\n",
        "len(train_data)\n",
        "\n",
        "PAD_IDX = vocab['<pad>']\n",
        "BOS_IDX = vocab['<bos>']\n",
        "EOS_IDX = vocab['<eos>']\n"
      ]
    },
    {
      "cell_type": "code",
      "execution_count": null,
      "metadata": {
        "id": "TRY2Oe6sOer3"
      },
      "outputs": [],
      "source": [
        "def generate_batch(data_batch):\n",
        "  de_batch, en_batch = [], []\n",
        "  for (de_item, en_item) in data_batch:\n",
        "    de_batch.append(torch.cat([torch.tensor([BOS_IDX]), de_item, torch.tensor([EOS_IDX])], dim=0))\n",
        "    en_batch.append(torch.cat([torch.tensor([BOS_IDX]), en_item, torch.tensor([EOS_IDX])], dim=0))\n",
        "  de_batch = pad_sequence(de_batch, padding_value=PAD_IDX)\n",
        "  en_batch = pad_sequence(en_batch, padding_value=PAD_IDX)\n",
        "  return de_batch, en_batch\n",
        "BATCH_SIZE = 2\n",
        "train_iter = DataLoader(train_data, batch_size=BATCH_SIZE,shuffle=True, collate_fn=generate_batch)\n",
        "valid_iter = DataLoader(valid_data, batch_size=BATCH_SIZE,shuffle=True, collate_fn=generate_batch)\n"
      ]
    },
    {
      "cell_type": "code",
      "execution_count": null,
      "metadata": {
        "id": "Gka2j4YpOs77"
      },
      "outputs": [],
      "source": [
        "\n",
        "class Seq2SeqTransformer(nn.Module):\n",
        "    def __init__(self, num_encoder_layers: int, num_decoder_layers: int,\n",
        "                 emb_size: int, src_vocab_size: int, tgt_vocab_size: int,\n",
        "                 dim_feedforward:int = 512, dropout:float = 0.1):\n",
        "        super(Seq2SeqTransformer, self).__init__()\n",
        "        encoder_layer = TransformerEncoderLayer(d_model=emb_size, nhead=NHEAD,\n",
        "                                                dim_feedforward=dim_feedforward)\n",
        "        self.transformer_encoder = TransformerEncoder(encoder_layer, num_layers=num_encoder_layers)\n",
        "        decoder_layer = TransformerDecoderLayer(d_model=emb_size, nhead=NHEAD,\n",
        "                                                dim_feedforward=dim_feedforward)\n",
        "        self.transformer_decoder = TransformerDecoder(decoder_layer, num_layers=num_decoder_layers)\n",
        "        self.generator = nn.Linear(emb_size, tgt_vocab_size)\n",
        "        self.src_tok_emb = TokenEmbedding(src_vocab_size, emb_size)\n",
        "        self.tgt_tok_emb = TokenEmbedding(tgt_vocab_size, emb_size)\n",
        "        self.positional_encoding = PositionalEncoding(emb_size, dropout=dropout)\n",
        "\n",
        "    def forward(self, src: Tensor, trg: Tensor, src_mask: Tensor,\n",
        "                tgt_mask: Tensor, src_padding_mask: Tensor,\n",
        "                tgt_padding_mask: Tensor, memory_key_padding_mask: Tensor):\n",
        "        src_emb = self.positional_encoding(self.src_tok_emb(src))\n",
        "        tgt_emb = self.positional_encoding(self.tgt_tok_emb(trg))\n",
        "        memory = self.transformer_encoder(src_emb, src_mask, src_padding_mask)\n",
        "        outs = self.transformer_decoder(tgt_emb, memory, tgt_mask, None,tgt_padding_mask, memory_key_padding_mask)\n",
        "        return self.generator(outs)\n",
        "\n",
        "    def encode(self, src: Tensor, src_mask: Tensor):\n",
        "        return self.transformer_encoder(self.positional_encoding(\n",
        "                            self.src_tok_emb(src)), src_mask)\n",
        "\n",
        "    def decode(self, tgt: Tensor, memory: Tensor, tgt_mask: Tensor):\n",
        "        return self.transformer_decoder(self.positional_encoding(self.tgt_tok_emb(tgt)), memory,tgt_mask)\n",
        "\n",
        "class PositionalEncoding(nn.Module):\n",
        "    def __init__(self, emb_size: int, dropout, maxlen: int = 5000):\n",
        "        super(PositionalEncoding, self).__init__()\n",
        "        den = torch.exp(- torch.arange(0, emb_size, 2) * math.log(10000) / emb_size)\n",
        "        pos = torch.arange(0, maxlen).reshape(maxlen, 1)\n",
        "        pos_embedding = torch.zeros((maxlen, emb_size))\n",
        "        pos_embedding[:, 0::2] = torch.sin(pos * den)\n",
        "        pos_embedding[:, 1::2] = torch.cos(pos * den)\n",
        "        pos_embedding = pos_embedding.unsqueeze(-2)\n",
        "        self.dropout = nn.Dropout(dropout)\n",
        "        self.register_buffer('pos_embedding', pos_embedding)\n",
        "\n",
        "    def forward(self, token_embedding: Tensor):\n",
        "        return self.dropout(token_embedding + self.pos_embedding[:token_embedding.size(0),:])\n",
        "\n",
        "class TokenEmbedding(nn.Module):\n",
        "    def __init__(self, vocab_size: int, emb_size):\n",
        "        super(TokenEmbedding, self).__init__()\n",
        "        self.embedding = nn.Embedding(vocab_size, emb_size)\n",
        "        self.emb_size = emb_size\n",
        "    def forward(self, tokens: Tensor):\n",
        "        return self.embedding(tokens.long()) * math.sqrt(self.emb_size)\n",
        "\n",
        "def generate_square_subsequent_mask(sz):\n",
        "    mask = (torch.triu(torch.ones((sz, sz), device=DEVICE)) == 1).transpose(0, 1)\n",
        "    mask = mask.float().masked_fill(mask == 0, float('-inf')).masked_fill(mask == 1, float(0.0))\n",
        "    return mask\n",
        "\n",
        "def create_mask(src, tgt):\n",
        "    src_seq_len = src.shape[0]\n",
        "    tgt_seq_len = tgt.shape[0]\n",
        "\n",
        "    tgt_mask = generate_square_subsequent_mask(tgt_seq_len)\n",
        "    src_mask = torch.zeros((src_seq_len, src_seq_len), device=DEVICE).type(torch.bool)\n",
        "\n",
        "    src_padding_mask = (src == PAD_IDX).transpose(0, 1)\n",
        "    tgt_padding_mask = (tgt == PAD_IDX).transpose(0, 1)\n",
        "    return src_mask, tgt_mask, src_padding_mask, tgt_padding_mask\n",
        "\n"
      ]
    },
    {
      "cell_type": "code",
      "execution_count": null,
      "metadata": {
        "id": "jvSW9rnecVrX"
      },
      "outputs": [],
      "source": [
        "\n",
        "DEVICE = torch.device('cuda:0' if torch.cuda.is_available() else 'cpu')\n",
        "device = torch.device('cuda' if torch.cuda.is_available() else 'cpu')"
      ]
    },
    {
      "cell_type": "code",
      "execution_count": null,
      "metadata": {
        "id": "aJ5ZCWEicaAg"
      },
      "outputs": [],
      "source": []
    },
    {
      "cell_type": "code",
      "execution_count": null,
      "metadata": {
        "id": "4r66EYxcOzrh"
      },
      "outputs": [],
      "source": [
        "SRC_VOCAB_SIZE = len(vocab)\n",
        "TGT_VOCAB_SIZE = len(vocab)\n",
        "EMB_SIZE = 512\n",
        "# NHEAD = 8\n",
        "# FFN_HID_DIM = 512\n",
        "# BATCH_SIZE = 64\n",
        "NUM_ENCODER_LAYERS = 5\n",
        "NUM_DECODER_LAYERS = 5\n",
        "# NUM_EPOCHS = 50\n",
        "NUM_EPOCHS = 50\n",
        "NHEAD = 8\n",
        "# NUM_ENCODER_LAYERS = 1\n",
        "# NUM_DECODER_LAYERS = 1\n",
        "BATCH_SIZE = 2\n",
        "# EMB_SIZE = 256\n",
        "FFN_HID_DIM = 256\n",
        "DEVICE = torch.device('cuda:0' if torch.cuda.is_available() else 'cpu')\n",
        "device = torch.device('cuda' if torch.cuda.is_available() else 'cpu')\n",
        "\n",
        "transformer = Seq2SeqTransformer(NUM_ENCODER_LAYERS, NUM_DECODER_LAYERS,\n",
        "                                 EMB_SIZE, SRC_VOCAB_SIZE, TGT_VOCAB_SIZE,\n",
        "                                 FFN_HID_DIM)\n",
        "\n",
        "for p in transformer.parameters():\n",
        "    if p.dim() > 1:\n",
        "        nn.init.xavier_uniform_(p)\n",
        "\n",
        "transformer = transformer.to(device)\n",
        "\n",
        "loss_fn = torch.nn.CrossEntropyLoss(ignore_index=PAD_IDX)\n",
        "\n",
        "optimizer = torch.optim.Adam(\n",
        "    transformer.parameters(), lr=0.0001, betas=(0.9, 0.98), eps=1e-9\n",
        ")\n",
        "\n",
        "def train_epoch(model, train_iter, optimizer):\n",
        "    model.train()\n",
        "    losses = 0\n",
        "    for idx, (src, tgt) in enumerate(train_iter):\n",
        "        src = src.to(device)\n",
        "        tgt = tgt.to(device)\n",
        "        tgt_input = tgt[:-1, :]\n",
        "\n",
        "        src_mask, tgt_mask, src_padding_mask, tgt_padding_mask = create_mask(src, tgt_input)\n",
        "\n",
        "        logits = model(src, tgt_input, src_mask, tgt_mask,\n",
        "                       src_padding_mask, tgt_padding_mask, src_padding_mask)\n",
        "\n",
        "        optimizer.zero_grad()\n",
        "\n",
        "        tgt_out = tgt[1:, :]\n",
        "        loss = loss_fn(logits.reshape(-1, logits.shape[-1]), tgt_out.reshape(-1))\n",
        "        loss.backward()\n",
        "\n",
        "        optimizer.step()\n",
        "        losses += loss.item()\n",
        "    torch.save(model, './test')\n",
        "\n",
        "    return losses / len(train_iter)\n",
        "\n",
        "\n",
        "def evaluate(model, val_iter):\n",
        "    model.eval()\n",
        "    losses = 0\n",
        "    for idx, (src, tgt) in (enumerate(valid_iter)):\n",
        "        src = src.to(device)\n",
        "        tgt = tgt.to(device)\n",
        "\n",
        "        tgt_input = tgt[:-1, :]\n",
        "\n",
        "        src_mask, tgt_mask, src_padding_mask, tgt_padding_mask = create_mask(src, tgt_input)\n",
        "\n",
        "        logits = model(src, tgt_input, src_mask, tgt_mask,\n",
        "                       src_padding_mask, tgt_padding_mask, src_padding_mask)\n",
        "        tgt_out = tgt[1:, :]\n",
        "        loss = loss_fn(logits.reshape(-1, logits.shape[-1]), tgt_out.reshape(-1))\n",
        "        losses += loss.item()\n",
        "    return losses / len(val_iter)\n",
        "\n",
        "\n",
        "def greedy_decode(model, src, src_mask, max_len, start_symbol):\n",
        "    src = src.to(device)\n",
        "    src_mask = src_mask.to(device)\n",
        "    memory = model.encode(src, src_mask)\n",
        "    ys = torch.ones(1, 1).fill_(start_symbol).type(torch.long).to(device)\n",
        "    for i in range(max_len-1):\n",
        "        memory = memory.to(device)\n",
        "        memory_mask = torch.zeros(ys.shape[0], memory.shape[0]).to(device).type(torch.bool)\n",
        "        tgt_mask = (generate_square_subsequent_mask(ys.size(0))\n",
        "                                    .type(torch.bool)).to(device)\n",
        "        out = model.decode(ys, memory, tgt_mask)\n",
        "        out = out.transpose(0, 1)\n",
        "        prob = model.generator(out[:, -1])\n",
        "        _, next_word = torch.max(prob, dim = 1)\n",
        "        next_word = next_word.item()\n",
        "\n",
        "        ys = torch.cat([ys,\n",
        "                        torch.ones(1, 1).type_as(src.data).fill_(next_word)], dim=0)\n",
        "        if next_word == EOS_IDX:\n",
        "          break\n",
        "    return ys\n",
        "\n"
      ]
    },
    {
      "cell_type": "code",
      "execution_count": null,
      "metadata": {
        "colab": {
          "base_uri": "https://localhost:8080/"
        },
        "id": "m9KhmcD_YlqX",
        "outputId": "a0134436-6056-4b2d-95ce-20061734cbea"
      },
      "outputs": [
        {
          "name": "stdout",
          "output_type": "stream",
          "text": [
            "Epoch: 1, Train loss: 6.862, Val loss: 6.213, Epoch time = 74.052s\n",
            "Epoch: 2, Train loss: 5.385, Val loss: 5.938, Epoch time = 72.659s\n",
            "Epoch: 3, Train loss: 4.969, Val loss: 5.814, Epoch time = 72.995s\n",
            "Epoch: 4, Train loss: 4.685, Val loss: 5.647, Epoch time = 72.872s\n",
            "Epoch: 5, Train loss: 4.465, Val loss: 5.491, Epoch time = 72.742s\n",
            "Epoch: 6, Train loss: 4.274, Val loss: 5.467, Epoch time = 72.568s\n",
            "Epoch: 7, Train loss: 4.108, Val loss: 5.361, Epoch time = 72.611s\n",
            "Epoch: 8, Train loss: 3.964, Val loss: 5.366, Epoch time = 72.655s\n"
          ]
        }
      ],
      "source": [
        "for epoch in range(1, NUM_EPOCHS+1):\n",
        "    start_time = time.time()\n",
        "    train_loss = train_epoch(transformer, train_iter, optimizer)\n",
        "    end_time = time.time()\n",
        "    val_loss = evaluate(transformer, valid_iter)\n",
        "    print((f\"Epoch: {epoch}, Train loss: {train_loss:.3f}, Val loss: {val_loss:.3f}, \"\n",
        "           f\"Epoch time = {(end_time - start_time):.3f}s\"))\n"
      ]
    },
    {
      "cell_type": "code",
      "execution_count": null,
      "metadata": {
        "id": "iJ7LVXtIO2QR"
      },
      "outputs": [],
      "source": [
        "def translate(model, src, src_vocab, tgt_vocab, src_tokenizer):\n",
        "    model.eval()\n",
        "    tokens = [BOS_IDX] + [src_vocab.get_stoi()[tok] for tok in src_tokenizer(src)] + [EOS_IDX]\n",
        "    num_tokens = len(tokens)\n",
        "    src = (torch.LongTensor(tokens).reshape(num_tokens, 1))\n",
        "    src_mask = (torch.zeros(num_tokens, num_tokens)).type(torch.bool)\n",
        "    \n",
        "    tgt_tokens = greedy_decode(model, src, src_mask, max_len=num_tokens + 5, start_symbol=BOS_IDX).flatten()\n",
        "    \n",
        "    return \" \".join([tgt_vocab.get_itos()[int(tok)] for tok in tgt_tokens]).replace(\"<bos>\", \"\").replace(\"<eos>\", \"\")\n",
        "\n",
        "\n",
        "# for i in range(10):\n",
        "#   output = translate(transformer, valid['input_text'][i], vocab, vocab, tokenizer)\n",
        "#   print('---------BATCH',i+1,'----------')\n",
        "#   print(valid['input_text'][i])\n",
        "#   print('<start> ',output,' <end>')\n",
        "#   print(valid['target_text'][i])\n",
        "#   print('\\n')\n",
        "\n",
        "for i in range(10):\n",
        "  output = translate(transformer, valid['input_text'][i], vocab, vocab, tokenizer)\n",
        "  print('---------BATCH',i+1,'----------')\n",
        "  print(valid['input_text'][i])\n",
        "  print('<start> ',output,' <end>')\n",
        "  print(valid['target_text'][i])\n",
        "  print('\\n')\n",
        "\n"
      ]
    },
    {
      "cell_type": "code",
      "execution_count": null,
      "metadata": {
        "id": "hk9Hfb5rYQM9"
      },
      "outputs": [],
      "source": [
        "%pip install rouge"
      ]
    },
    {
      "cell_type": "code",
      "execution_count": null,
      "metadata": {
        "id": "hU5KuDKMWjG7"
      },
      "outputs": [],
      "source": [
        "from torchtext.data.metrics import bleu_score\n",
        "from rouge import Rouge\n",
        "rouge = Rouge()\n",
        "candidate_corpus = []\n",
        "references_corpus = []\n",
        "for i in range(10):\n",
        "  input,target = valid['input_text'][i],valid['target_text'][i]\n",
        "  output = translate(transformer, valid['input_text'][i], vocab, vocab, tokenizer)\n",
        "  input_words = input.split()\n",
        "  target_words = target.split()\n",
        "  output_words = output.split()\n",
        "  candidate_corpus.append(target_words)\n",
        "  references_corpus.append([output_words])\n",
        "print('bleu_score',bleu_score(candidate_corpus, references_corpus))\n",
        "cp = []\n",
        "rp = []\n",
        "for c,r in zip(candidate_corpus, references_corpus):\n",
        "  cp.append(\" \".join(c))\n",
        "  rp.append(\" \".join(r[0]))\n",
        "scores = rouge.get_scores(cp, rp, avg=True)\n",
        "print('rouge',scores)"
      ]
    }
  ],
  "metadata": {
    "accelerator": "GPU",
    "colab": {
      "collapsed_sections": [],
      "name": "may8.ipynb",
      "provenance": []
    },
    "kernelspec": {
      "display_name": "Python 3",
      "name": "python3"
    },
    "language_info": {
      "name": "python"
    }
  },
  "nbformat": 4,
  "nbformat_minor": 0
}
