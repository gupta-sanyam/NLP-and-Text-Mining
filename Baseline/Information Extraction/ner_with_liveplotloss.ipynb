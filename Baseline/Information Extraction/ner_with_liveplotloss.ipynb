{
  "cells": [
    {
      "metadata": {
        "_uuid": "8f2839f25d086af736a60e9eeb907d3b93b6e0e5",
        "_cell_guid": "b1076dfc-b9ad-4769-8c92-a6c4dae69d19",
        "trusted": true,
        "colab": {
          "base_uri": "https://localhost:8080/"
        },
        "id": "yyrT7jJYEH-i",
        "outputId": "63b68fe6-c334-4ac3-e53a-eb0556018afb"
      },
      "cell_type": "code",
      "source": [
        "# This Python 3 environment comes with many helpful analytics libraries installed\n",
        "# It is defined by the kaggle/python Docker image: https://github.com/kaggle/docker-python\n",
        "# For example, here's several helpful packages to load\n",
        "\n",
        "%matplotlib inline\n",
        "import matplotlib.pyplot as plt\n",
        "import pandas as pd\n",
        "import numpy as np\n",
        "np.random.seed(0)\n",
        "plt.style.use(\"ggplot\")\n",
        "\n",
        "import tensorflow as tf\n",
        "print('Tensorflow version:', tf.__version__)\n",
        "print('GPU detected:', tf.config.list_physical_devices('GPU'))\n",
        "# Input data files are available in the read-only \"../input/\" directory\n",
        "# For example, running this (by clicking run or pressing Shift+Enter) will list all files under the input directory\n",
        "\n",
        "import os\n",
        "for dirname, _, filenames in os.walk('/kaggle/input'):\n",
        "    for filename in filenames:\n",
        "        print(os.path.join(dirname, filename))\n",
        "\n",
        "# You can write up to 5GB to the current directory (/kaggle/working/) that gets preserved as output when you create a version using \"Save & Run All\" \n",
        "# You can also write temporary files to /kaggle/temp/, but they won't be saved outside of the current session"
      ],
      "execution_count": null,
      "outputs": [
        {
          "output_type": "stream",
          "name": "stdout",
          "text": [
            "Tensorflow version: 2.8.0\n",
            "GPU detected: []\n"
          ]
        }
      ]
    },
    {
      "cell_type": "markdown",
      "source": [
        " - [x] get the file\n",
        " - [x] read the rows\n",
        " - [x] tpkenize the snetences\n",
        " - [ ] join date and source to sentence\n",
        " - [x] find location (lowercase), and fatalities of not zero (number in word too)\n",
        " - [x] skip the sentences that:\n",
        "    - [ ] no sentence ... Auto?\n",
        "    - [ ] location not in sentence\n",
        "    - [ ] 0 fatalities\n",
        " - [x] make a new csv with tagged entities\n",
        " - [x] input to this model \n",
        " - [x] test accuracy \n",
        " - [x] cry: reason for high accuracy, nearly everything is O\n",
        " - [x] figure how to measure accuracy of only specific tags\n",
        " - [x] test accuracy again\n",
        " - [x] Cry: on below 50% accuracy, monkeys can do better ... okay 56%\n",
        " - [ ] figure out how to get location out of on normal sentence\n",
        " - [ ] label it as test set\n",
        " - [ ] test accuracy again\n",
        " - [ ] Cry: on below 50% accuracy, monkeys can do better\n",
        " - [ ] \n",
        " - [ ] Ask on Piazza if accuracy below 50 okay, and this is what I tried, what could be done better\n",
        " - [ ] Spacy"
      ],
      "metadata": {
        "id": "3a-iJAvpx1dE"
      }
    },
    {
      "cell_type": "code",
      "source": [
        "!pip3 install text2digits"
      ],
      "metadata": {
        "colab": {
          "base_uri": "https://localhost:8080/"
        },
        "id": "TJMyFGdaGUW-",
        "outputId": "8afeae1c-0dd5-4567-d347-b01a93202ced"
      },
      "execution_count": null,
      "outputs": [
        {
          "output_type": "stream",
          "name": "stdout",
          "text": [
            "Collecting text2digits\n",
            "  Downloading text2digits-0.1.0-py3-none-any.whl (13 kB)\n",
            "Installing collected packages: text2digits\n",
            "Successfully installed text2digits-0.1.0\n"
          ]
        }
      ]
    },
    {
      "cell_type": "code",
      "source": [
        "raw_data = pd.read_csv('task_1_information_extraction_train.csv')\n",
        "raw_data = raw_data.fillna(method='ffill')\n",
        "raw_data.head(2)"
      ],
      "metadata": {
        "colab": {
          "base_uri": "https://localhost:8080/",
          "height": 225
        },
        "id": "Ju9JTLcAv77D",
        "outputId": "c2ca417b-10c4-4853-c710-43f9de3a5bab"
      },
      "execution_count": null,
      "outputs": [
        {
          "output_type": "execute_result",
          "data": {
            "text/plain": [
              "                                               NOTES      EVENT_DATE  \\\n",
              "0  Three people were killed while 27 others injur...  29-August-2012   \n",
              "1  Government security forces opened fire at a pr...     03-May-2014   \n",
              "\n",
              "                 SOURCE  FATALITIES                  EVENT_TYPE  \\\n",
              "0  Statesman (Pakistan)           3  Explosions/Remote violence   \n",
              "1    Undisclosed Source           0  Violence against civilians   \n",
              "\n",
              "                  SUB_EVENT_TYPE                                  ACTOR1  \\\n",
              "0  Remote explosive/landmine/IED     Unidentified Armed Group (Pakistan)   \n",
              "1                         Attack  Military Forces of Somalia (2012-2017)   \n",
              "\n",
              "   INTER1                ACTOR2  INTER2  INTERACTION   LOCATION  \n",
              "0       3  Civilians (Pakistan)       7           37  Jacobabad  \n",
              "1       1   Civilians (Somalia)       7           17     Baidoa  "
            ],
            "text/html": [
              "\n",
              "  <div id=\"df-60116a42-ecd1-4941-85bd-d286755609ea\">\n",
              "    <div class=\"colab-df-container\">\n",
              "      <div>\n",
              "<style scoped>\n",
              "    .dataframe tbody tr th:only-of-type {\n",
              "        vertical-align: middle;\n",
              "    }\n",
              "\n",
              "    .dataframe tbody tr th {\n",
              "        vertical-align: top;\n",
              "    }\n",
              "\n",
              "    .dataframe thead th {\n",
              "        text-align: right;\n",
              "    }\n",
              "</style>\n",
              "<table border=\"1\" class=\"dataframe\">\n",
              "  <thead>\n",
              "    <tr style=\"text-align: right;\">\n",
              "      <th></th>\n",
              "      <th>NOTES</th>\n",
              "      <th>EVENT_DATE</th>\n",
              "      <th>SOURCE</th>\n",
              "      <th>FATALITIES</th>\n",
              "      <th>EVENT_TYPE</th>\n",
              "      <th>SUB_EVENT_TYPE</th>\n",
              "      <th>ACTOR1</th>\n",
              "      <th>INTER1</th>\n",
              "      <th>ACTOR2</th>\n",
              "      <th>INTER2</th>\n",
              "      <th>INTERACTION</th>\n",
              "      <th>LOCATION</th>\n",
              "    </tr>\n",
              "  </thead>\n",
              "  <tbody>\n",
              "    <tr>\n",
              "      <th>0</th>\n",
              "      <td>Three people were killed while 27 others injur...</td>\n",
              "      <td>29-August-2012</td>\n",
              "      <td>Statesman (Pakistan)</td>\n",
              "      <td>3</td>\n",
              "      <td>Explosions/Remote violence</td>\n",
              "      <td>Remote explosive/landmine/IED</td>\n",
              "      <td>Unidentified Armed Group (Pakistan)</td>\n",
              "      <td>3</td>\n",
              "      <td>Civilians (Pakistan)</td>\n",
              "      <td>7</td>\n",
              "      <td>37</td>\n",
              "      <td>Jacobabad</td>\n",
              "    </tr>\n",
              "    <tr>\n",
              "      <th>1</th>\n",
              "      <td>Government security forces opened fire at a pr...</td>\n",
              "      <td>03-May-2014</td>\n",
              "      <td>Undisclosed Source</td>\n",
              "      <td>0</td>\n",
              "      <td>Violence against civilians</td>\n",
              "      <td>Attack</td>\n",
              "      <td>Military Forces of Somalia (2012-2017)</td>\n",
              "      <td>1</td>\n",
              "      <td>Civilians (Somalia)</td>\n",
              "      <td>7</td>\n",
              "      <td>17</td>\n",
              "      <td>Baidoa</td>\n",
              "    </tr>\n",
              "  </tbody>\n",
              "</table>\n",
              "</div>\n",
              "      <button class=\"colab-df-convert\" onclick=\"convertToInteractive('df-60116a42-ecd1-4941-85bd-d286755609ea')\"\n",
              "              title=\"Convert this dataframe to an interactive table.\"\n",
              "              style=\"display:none;\">\n",
              "        \n",
              "  <svg xmlns=\"http://www.w3.org/2000/svg\" height=\"24px\"viewBox=\"0 0 24 24\"\n",
              "       width=\"24px\">\n",
              "    <path d=\"M0 0h24v24H0V0z\" fill=\"none\"/>\n",
              "    <path d=\"M18.56 5.44l.94 2.06.94-2.06 2.06-.94-2.06-.94-.94-2.06-.94 2.06-2.06.94zm-11 1L8.5 8.5l.94-2.06 2.06-.94-2.06-.94L8.5 2.5l-.94 2.06-2.06.94zm10 10l.94 2.06.94-2.06 2.06-.94-2.06-.94-.94-2.06-.94 2.06-2.06.94z\"/><path d=\"M17.41 7.96l-1.37-1.37c-.4-.4-.92-.59-1.43-.59-.52 0-1.04.2-1.43.59L10.3 9.45l-7.72 7.72c-.78.78-.78 2.05 0 2.83L4 21.41c.39.39.9.59 1.41.59.51 0 1.02-.2 1.41-.59l7.78-7.78 2.81-2.81c.8-.78.8-2.07 0-2.86zM5.41 20L4 18.59l7.72-7.72 1.47 1.35L5.41 20z\"/>\n",
              "  </svg>\n",
              "      </button>\n",
              "      \n",
              "  <style>\n",
              "    .colab-df-container {\n",
              "      display:flex;\n",
              "      flex-wrap:wrap;\n",
              "      gap: 12px;\n",
              "    }\n",
              "\n",
              "    .colab-df-convert {\n",
              "      background-color: #E8F0FE;\n",
              "      border: none;\n",
              "      border-radius: 50%;\n",
              "      cursor: pointer;\n",
              "      display: none;\n",
              "      fill: #1967D2;\n",
              "      height: 32px;\n",
              "      padding: 0 0 0 0;\n",
              "      width: 32px;\n",
              "    }\n",
              "\n",
              "    .colab-df-convert:hover {\n",
              "      background-color: #E2EBFA;\n",
              "      box-shadow: 0px 1px 2px rgba(60, 64, 67, 0.3), 0px 1px 3px 1px rgba(60, 64, 67, 0.15);\n",
              "      fill: #174EA6;\n",
              "    }\n",
              "\n",
              "    [theme=dark] .colab-df-convert {\n",
              "      background-color: #3B4455;\n",
              "      fill: #D2E3FC;\n",
              "    }\n",
              "\n",
              "    [theme=dark] .colab-df-convert:hover {\n",
              "      background-color: #434B5C;\n",
              "      box-shadow: 0px 1px 3px 1px rgba(0, 0, 0, 0.15);\n",
              "      filter: drop-shadow(0px 1px 2px rgba(0, 0, 0, 0.3));\n",
              "      fill: #FFFFFF;\n",
              "    }\n",
              "  </style>\n",
              "\n",
              "      <script>\n",
              "        const buttonEl =\n",
              "          document.querySelector('#df-60116a42-ecd1-4941-85bd-d286755609ea button.colab-df-convert');\n",
              "        buttonEl.style.display =\n",
              "          google.colab.kernel.accessAllowed ? 'block' : 'none';\n",
              "\n",
              "        async function convertToInteractive(key) {\n",
              "          const element = document.querySelector('#df-60116a42-ecd1-4941-85bd-d286755609ea');\n",
              "          const dataTable =\n",
              "            await google.colab.kernel.invokeFunction('convertToInteractive',\n",
              "                                                     [key], {});\n",
              "          if (!dataTable) return;\n",
              "\n",
              "          const docLinkHtml = 'Like what you see? Visit the ' +\n",
              "            '<a target=\"_blank\" href=https://colab.research.google.com/notebooks/data_table.ipynb>data table notebook</a>'\n",
              "            + ' to learn more about interactive tables.';\n",
              "          element.innerHTML = '';\n",
              "          dataTable['output_type'] = 'display_data';\n",
              "          await google.colab.output.renderOutput(dataTable, element);\n",
              "          const docLink = document.createElement('div');\n",
              "          docLink.innerHTML = docLinkHtml;\n",
              "          element.appendChild(docLink);\n",
              "        }\n",
              "      </script>\n",
              "    </div>\n",
              "  </div>\n",
              "  "
            ]
          },
          "metadata": {},
          "execution_count": 3
        }
      ]
    },
    {
      "cell_type": "code",
      "source": [
        "from spacy.lang.en import English\n",
        "nlp = English()\n",
        "# Create a Tokenizer with the default settings for English\n",
        "# including punctuation rules and exceptions\n",
        "tokenizer = nlp.tokenizer\n",
        "\n",
        "tokens = tokenizer(\"This, is a sentence\")\n",
        "for token in tokens:\n",
        "    print(token.text)"
      ],
      "metadata": {
        "colab": {
          "base_uri": "https://localhost:8080/"
        },
        "id": "FRzKgpZj5SZC",
        "outputId": "036775b2-b3c9-4b68-fe03-791cec792805"
      },
      "execution_count": null,
      "outputs": [
        {
          "output_type": "stream",
          "name": "stdout",
          "text": [
            "This\n",
            ",\n",
            "is\n",
            "a\n",
            "sentence\n"
          ]
        }
      ]
    },
    {
      "cell_type": "code",
      "source": [
        "#tokenization\n",
        "import spacy\n",
        "tok = spacy.load('en')\n",
        "def tokenize (text):\n",
        "    text = re.sub(r\"[^\\x00-\\x7F]+\", \" \", text)\n",
        "    regex = re.compile('[' + re.escape(string.punctuation) + '0-9\\\\r\\\\t\\\\n]') # remove punctuation and numbers\n",
        "    nopunct = regex.sub(\" \", text.lower())\n",
        "    return [token.text for token in tok.tokenizer(nopunct)]"
      ],
      "metadata": {
        "colab": {
          "base_uri": "https://localhost:8080/",
          "height": 35
        },
        "id": "ZCHbqYFY71fF",
        "outputId": "c8e443f4-efd6-4424-8a08-dd41110e0455"
      },
      "execution_count": null,
      "outputs": [
        {
          "output_type": "execute_result",
          "data": {
            "text/plain": [
              "'foo'"
            ],
            "application/vnd.google.colaboratory.intrinsic+json": {
              "type": "string"
            }
          },
          "metadata": {},
          "execution_count": 5
        }
      ]
    },
    {
      "cell_type": "code",
      "source": [
        "# for d in data[:3]:\n",
        "#     print(d)\n",
        "\n",
        "# df = pd.DataFrame({'c1': [10, 11, 12], 'c2': [100, 110, 120]})\n",
        "# df = df.reset_index()  # make sure indexes pair with number of rows\n",
        "# for index, row in df.iterrows():\n",
        "#     print(row['c1'], row['c2'])\n",
        "\n",
        "# ['Sentence #', 'Word', 'POS', 'Tag']\n",
        "\n",
        "from text2digits import text2digits\n",
        "t2d = text2digits.Text2Digits()\n",
        "\n",
        "\n",
        "sentence_nos = []\n",
        "words = []\n",
        "poss = []\n",
        "tags = []\n",
        "\n",
        "no_sen_nos = []\n",
        "\n",
        "for index, row in raw_data.head(20000).iterrows():\n",
        "    sentence = row['NOTES'].strip()\n",
        "\n",
        "    if sentence:\n",
        "        tokens = tokenizer(sentence)\n",
        "        for token in tokens:\n",
        "            word = token.text\n",
        "            if word not in ['.', ',', ')', '(']:\n",
        "            \n",
        "                sentence_nos.append(index)\n",
        "                words.append(word)\n",
        "                tag = 'O'\n",
        "                if word.lower() == row['LOCATION'].lower():\n",
        "                    tag = \"LOCATION\"\n",
        "                if t2d.convert(word).isdigit() and int(t2d.convert(word)) == row['FATALITIES']:\n",
        "                    tag = \"FATALITIES\"\n",
        "                tags.append(tag)\n",
        "                poss.append(\"_\")\n",
        "    else:\n",
        "        no_sen_nos.append(index)\n",
        "\n",
        "\n",
        "data = pd.DataFrame({'Sentence #': sentence_nos, 'Word': words, 'POS': poss, 'Tag': tags})\n",
        "\n",
        "print(len(no_sen_nos))"
      ],
      "metadata": {
        "colab": {
          "base_uri": "https://localhost:8080/"
        },
        "id": "MWEOFX3p5pMz",
        "outputId": "6aef4347-4939-45ed-bbe4-b2990bd10906"
      },
      "execution_count": null,
      "outputs": [
        {
          "output_type": "stream",
          "name": "stdout",
          "text": [
            "0\n"
          ]
        }
      ]
    },
    {
      "cell_type": "code",
      "source": [
        "data.to_csv('cleaned_data.csv', encoding='utf-8')"
      ],
      "metadata": {
        "id": "Qg1b0y1HAbf2"
      },
      "execution_count": null,
      "outputs": []
    },
    {
      "cell_type": "code",
      "source": [
        "data.head(100)"
      ],
      "metadata": {
        "colab": {
          "base_uri": "https://localhost:8080/",
          "height": 424
        },
        "id": "JREQej31CSB9",
        "outputId": "c59bd71f-b09f-47b2-886f-f53af10eb640"
      },
      "execution_count": null,
      "outputs": [
        {
          "output_type": "execute_result",
          "data": {
            "text/plain": [
              "    Sentence #        Word POS         Tag\n",
              "0            0       Three   _  FATALITIES\n",
              "1            0      people   _           O\n",
              "2            0        were   _           O\n",
              "3            0      killed   _           O\n",
              "4            0       while   _           O\n",
              "..         ...         ...  ..         ...\n",
              "95           3  government   _           O\n",
              "96           3         for   _           O\n",
              "97           3         the   _           O\n",
              "98           3       first   _           O\n",
              "99           3        time   _           O\n",
              "\n",
              "[100 rows x 4 columns]"
            ],
            "text/html": [
              "\n",
              "  <div id=\"df-efbe38ac-cbb2-40ec-bb4f-da25d510da34\">\n",
              "    <div class=\"colab-df-container\">\n",
              "      <div>\n",
              "<style scoped>\n",
              "    .dataframe tbody tr th:only-of-type {\n",
              "        vertical-align: middle;\n",
              "    }\n",
              "\n",
              "    .dataframe tbody tr th {\n",
              "        vertical-align: top;\n",
              "    }\n",
              "\n",
              "    .dataframe thead th {\n",
              "        text-align: right;\n",
              "    }\n",
              "</style>\n",
              "<table border=\"1\" class=\"dataframe\">\n",
              "  <thead>\n",
              "    <tr style=\"text-align: right;\">\n",
              "      <th></th>\n",
              "      <th>Sentence #</th>\n",
              "      <th>Word</th>\n",
              "      <th>POS</th>\n",
              "      <th>Tag</th>\n",
              "    </tr>\n",
              "  </thead>\n",
              "  <tbody>\n",
              "    <tr>\n",
              "      <th>0</th>\n",
              "      <td>0</td>\n",
              "      <td>Three</td>\n",
              "      <td>_</td>\n",
              "      <td>FATALITIES</td>\n",
              "    </tr>\n",
              "    <tr>\n",
              "      <th>1</th>\n",
              "      <td>0</td>\n",
              "      <td>people</td>\n",
              "      <td>_</td>\n",
              "      <td>O</td>\n",
              "    </tr>\n",
              "    <tr>\n",
              "      <th>2</th>\n",
              "      <td>0</td>\n",
              "      <td>were</td>\n",
              "      <td>_</td>\n",
              "      <td>O</td>\n",
              "    </tr>\n",
              "    <tr>\n",
              "      <th>3</th>\n",
              "      <td>0</td>\n",
              "      <td>killed</td>\n",
              "      <td>_</td>\n",
              "      <td>O</td>\n",
              "    </tr>\n",
              "    <tr>\n",
              "      <th>4</th>\n",
              "      <td>0</td>\n",
              "      <td>while</td>\n",
              "      <td>_</td>\n",
              "      <td>O</td>\n",
              "    </tr>\n",
              "    <tr>\n",
              "      <th>...</th>\n",
              "      <td>...</td>\n",
              "      <td>...</td>\n",
              "      <td>...</td>\n",
              "      <td>...</td>\n",
              "    </tr>\n",
              "    <tr>\n",
              "      <th>95</th>\n",
              "      <td>3</td>\n",
              "      <td>government</td>\n",
              "      <td>_</td>\n",
              "      <td>O</td>\n",
              "    </tr>\n",
              "    <tr>\n",
              "      <th>96</th>\n",
              "      <td>3</td>\n",
              "      <td>for</td>\n",
              "      <td>_</td>\n",
              "      <td>O</td>\n",
              "    </tr>\n",
              "    <tr>\n",
              "      <th>97</th>\n",
              "      <td>3</td>\n",
              "      <td>the</td>\n",
              "      <td>_</td>\n",
              "      <td>O</td>\n",
              "    </tr>\n",
              "    <tr>\n",
              "      <th>98</th>\n",
              "      <td>3</td>\n",
              "      <td>first</td>\n",
              "      <td>_</td>\n",
              "      <td>O</td>\n",
              "    </tr>\n",
              "    <tr>\n",
              "      <th>99</th>\n",
              "      <td>3</td>\n",
              "      <td>time</td>\n",
              "      <td>_</td>\n",
              "      <td>O</td>\n",
              "    </tr>\n",
              "  </tbody>\n",
              "</table>\n",
              "<p>100 rows × 4 columns</p>\n",
              "</div>\n",
              "      <button class=\"colab-df-convert\" onclick=\"convertToInteractive('df-efbe38ac-cbb2-40ec-bb4f-da25d510da34')\"\n",
              "              title=\"Convert this dataframe to an interactive table.\"\n",
              "              style=\"display:none;\">\n",
              "        \n",
              "  <svg xmlns=\"http://www.w3.org/2000/svg\" height=\"24px\"viewBox=\"0 0 24 24\"\n",
              "       width=\"24px\">\n",
              "    <path d=\"M0 0h24v24H0V0z\" fill=\"none\"/>\n",
              "    <path d=\"M18.56 5.44l.94 2.06.94-2.06 2.06-.94-2.06-.94-.94-2.06-.94 2.06-2.06.94zm-11 1L8.5 8.5l.94-2.06 2.06-.94-2.06-.94L8.5 2.5l-.94 2.06-2.06.94zm10 10l.94 2.06.94-2.06 2.06-.94-2.06-.94-.94-2.06-.94 2.06-2.06.94z\"/><path d=\"M17.41 7.96l-1.37-1.37c-.4-.4-.92-.59-1.43-.59-.52 0-1.04.2-1.43.59L10.3 9.45l-7.72 7.72c-.78.78-.78 2.05 0 2.83L4 21.41c.39.39.9.59 1.41.59.51 0 1.02-.2 1.41-.59l7.78-7.78 2.81-2.81c.8-.78.8-2.07 0-2.86zM5.41 20L4 18.59l7.72-7.72 1.47 1.35L5.41 20z\"/>\n",
              "  </svg>\n",
              "      </button>\n",
              "      \n",
              "  <style>\n",
              "    .colab-df-container {\n",
              "      display:flex;\n",
              "      flex-wrap:wrap;\n",
              "      gap: 12px;\n",
              "    }\n",
              "\n",
              "    .colab-df-convert {\n",
              "      background-color: #E8F0FE;\n",
              "      border: none;\n",
              "      border-radius: 50%;\n",
              "      cursor: pointer;\n",
              "      display: none;\n",
              "      fill: #1967D2;\n",
              "      height: 32px;\n",
              "      padding: 0 0 0 0;\n",
              "      width: 32px;\n",
              "    }\n",
              "\n",
              "    .colab-df-convert:hover {\n",
              "      background-color: #E2EBFA;\n",
              "      box-shadow: 0px 1px 2px rgba(60, 64, 67, 0.3), 0px 1px 3px 1px rgba(60, 64, 67, 0.15);\n",
              "      fill: #174EA6;\n",
              "    }\n",
              "\n",
              "    [theme=dark] .colab-df-convert {\n",
              "      background-color: #3B4455;\n",
              "      fill: #D2E3FC;\n",
              "    }\n",
              "\n",
              "    [theme=dark] .colab-df-convert:hover {\n",
              "      background-color: #434B5C;\n",
              "      box-shadow: 0px 1px 3px 1px rgba(0, 0, 0, 0.15);\n",
              "      filter: drop-shadow(0px 1px 2px rgba(0, 0, 0, 0.3));\n",
              "      fill: #FFFFFF;\n",
              "    }\n",
              "  </style>\n",
              "\n",
              "      <script>\n",
              "        const buttonEl =\n",
              "          document.querySelector('#df-efbe38ac-cbb2-40ec-bb4f-da25d510da34 button.colab-df-convert');\n",
              "        buttonEl.style.display =\n",
              "          google.colab.kernel.accessAllowed ? 'block' : 'none';\n",
              "\n",
              "        async function convertToInteractive(key) {\n",
              "          const element = document.querySelector('#df-efbe38ac-cbb2-40ec-bb4f-da25d510da34');\n",
              "          const dataTable =\n",
              "            await google.colab.kernel.invokeFunction('convertToInteractive',\n",
              "                                                     [key], {});\n",
              "          if (!dataTable) return;\n",
              "\n",
              "          const docLinkHtml = 'Like what you see? Visit the ' +\n",
              "            '<a target=\"_blank\" href=https://colab.research.google.com/notebooks/data_table.ipynb>data table notebook</a>'\n",
              "            + ' to learn more about interactive tables.';\n",
              "          element.innerHTML = '';\n",
              "          dataTable['output_type'] = 'display_data';\n",
              "          await google.colab.output.renderOutput(dataTable, element);\n",
              "          const docLink = document.createElement('div');\n",
              "          docLink.innerHTML = docLinkHtml;\n",
              "          element.appendChild(docLink);\n",
              "        }\n",
              "      </script>\n",
              "    </div>\n",
              "  </div>\n",
              "  "
            ]
          },
          "metadata": {},
          "execution_count": 8
        }
      ]
    },
    {
      "metadata": {
        "_uuid": "d629ff2d2480ee46fbb7e2d37f6b5fab8052498a",
        "_cell_guid": "79c7e3d0-c299-4dcb-8224-4455121ee9b0",
        "trusted": true,
        "id": "bxJaATjCEH-l"
      },
      "cell_type": "code",
      "source": [
        "# data = pd.read_csv('ner_dataset.csv', encoding='latin1')\n",
        "# data = data.fillna(method='ffill')\n",
        "# data.head(20)"
      ],
      "execution_count": null,
      "outputs": []
    },
    {
      "metadata": {
        "trusted": true,
        "colab": {
          "base_uri": "https://localhost:8080/"
        },
        "id": "EewlrummEH-l",
        "outputId": "8c53e459-642e-4be3-c4a5-710563589095"
      },
      "cell_type": "code",
      "source": [
        "data.columns"
      ],
      "execution_count": null,
      "outputs": [
        {
          "output_type": "execute_result",
          "data": {
            "text/plain": [
              "Index(['Sentence #', 'Word', 'POS', 'Tag'], dtype='object')"
            ]
          },
          "metadata": {},
          "execution_count": 10
        }
      ]
    },
    {
      "metadata": {
        "trusted": true,
        "colab": {
          "base_uri": "https://localhost:8080/"
        },
        "id": "ntwfQw8qEH-m",
        "outputId": "bd476bd0-8fda-4512-8e80-716566e76185"
      },
      "cell_type": "code",
      "source": [
        "print(\"unique words; \",data[\"Word\"].nunique())\n",
        "print(\"unique tags; \",data[\"Tag\"].nunique())"
      ],
      "execution_count": null,
      "outputs": [
        {
          "output_type": "stream",
          "name": "stdout",
          "text": [
            "unique words;  32716\n",
            "unique tags;  3\n"
          ]
        }
      ]
    },
    {
      "metadata": {
        "trusted": true,
        "id": "yRlkKf1QEH-m",
        "colab": {
          "base_uri": "https://localhost:8080/"
        },
        "outputId": "9ee3c428-ab05-4978-9bcc-86c68dd8cf9d"
      },
      "cell_type": "code",
      "source": [
        "#creating dataset for unique words, tags\n",
        "words = list(set(data[\"Word\"].values))\n",
        "words.append(\"ENDPAD\")\n",
        "tags = list(set(data[\"Tag\"].values))\n",
        "tags"
      ],
      "execution_count": null,
      "outputs": [
        {
          "output_type": "execute_result",
          "data": {
            "text/plain": [
              "['LOCATION', 'O', 'FATALITIES']"
            ]
          },
          "metadata": {},
          "execution_count": 12
        }
      ]
    },
    {
      "metadata": {
        "trusted": true,
        "colab": {
          "base_uri": "https://localhost:8080/"
        },
        "id": "i3nlGc8wEH-m",
        "outputId": "c1eeaf73-11a2-41b9-bf5d-1e5e3d7a1d36"
      },
      "cell_type": "code",
      "source": [
        "np.shape(words)"
      ],
      "execution_count": null,
      "outputs": [
        {
          "output_type": "execute_result",
          "data": {
            "text/plain": [
              "(32717,)"
            ]
          },
          "metadata": {},
          "execution_count": 13
        }
      ]
    },
    {
      "metadata": {
        "trusted": true,
        "id": "XnkRNGP0EH-n",
        "colab": {
          "base_uri": "https://localhost:8080/"
        },
        "outputId": "131afb0a-affc-463a-f9e8-481220c042c7"
      },
      "cell_type": "code",
      "source": [
        "num_words = len(words)\n",
        "num_tags = len(tags)\n",
        "num_tags"
      ],
      "execution_count": null,
      "outputs": [
        {
          "output_type": "execute_result",
          "data": {
            "text/plain": [
              "3"
            ]
          },
          "metadata": {},
          "execution_count": 14
        }
      ]
    },
    {
      "metadata": {
        "trusted": true,
        "id": "XdwCF4Q2EH-n"
      },
      "cell_type": "code",
      "source": [
        "class Sentence_getter(object):\n",
        "    def __init__(self, data):\n",
        "        self.data = data\n",
        "        agg_fun = lambda s: [(w, p, t) for w,p,t in zip(s[\"Word\"].values.tolist(),\n",
        "                                                       s[\"POS\"].values.tolist(),\n",
        "                                                       s['Tag'].values.tolist())]\n",
        "        \n",
        "        self.grouped = self.data.groupby('Sentence #').apply(agg_fun)\n",
        "        self.sentences = [i for i in self.grouped]\n",
        "    \n",
        "    "
      ],
      "execution_count": null,
      "outputs": []
    },
    {
      "metadata": {
        "trusted": true,
        "id": "XFodFe69EH-o"
      },
      "cell_type": "code",
      "source": [
        "getter = Sentence_getter(data)"
      ],
      "execution_count": null,
      "outputs": []
    },
    {
      "metadata": {
        "trusted": true,
        "id": "Me-_RUwfEH-o"
      },
      "cell_type": "code",
      "source": [
        "sentences = getter.sentences"
      ],
      "execution_count": null,
      "outputs": []
    },
    {
      "metadata": {
        "trusted": true,
        "colab": {
          "base_uri": "https://localhost:8080/"
        },
        "id": "6XbYfKg1EH-p",
        "outputId": "9ddfc890-6058-4395-9457-49d90d037186"
      },
      "cell_type": "code",
      "source": [
        "sentences[0]"
      ],
      "execution_count": null,
      "outputs": [
        {
          "output_type": "execute_result",
          "data": {
            "text/plain": [
              "[('Three', '_', 'FATALITIES'),\n",
              " ('people', '_', 'O'),\n",
              " ('were', '_', 'O'),\n",
              " ('killed', '_', 'O'),\n",
              " ('while', '_', 'O'),\n",
              " ('27', '_', 'O'),\n",
              " ('others', '_', 'O'),\n",
              " ('injured', '_', 'O'),\n",
              " ('when', '_', 'O'),\n",
              " ('a', '_', 'O'),\n",
              " ('Peshawar', '_', 'O'),\n",
              " ('-', '_', 'O'),\n",
              " ('bound', '_', 'O'),\n",
              " ('train', '_', 'O'),\n",
              " ('hit', '_', 'O'),\n",
              " ('a', '_', 'O'),\n",
              " ('bomb', '_', 'O'),\n",
              " ('planted', '_', 'O'),\n",
              " ('by', '_', 'O'),\n",
              " ('unidentified', '_', 'O'),\n",
              " ('militants', '_', 'O'),\n",
              " ('on', '_', 'O'),\n",
              " ('railway', '_', 'O'),\n",
              " ('tracks', '_', 'O'),\n",
              " ('in', '_', 'O'),\n",
              " ('Tul', '_', 'O'),\n",
              " ('town', '_', 'O'),\n",
              " ('in', '_', 'O'),\n",
              " ('Jacobabad', '_', 'LOCATION'),\n",
              " ('district', '_', 'O'),\n",
              " ('in', '_', 'O'),\n",
              " ('Sindh', '_', 'O')]"
            ]
          },
          "metadata": {},
          "execution_count": 18
        }
      ]
    },
    {
      "metadata": {
        "trusted": true,
        "id": "Bhe7vMEXEH-p"
      },
      "cell_type": "code",
      "source": [
        "# Creating vocabulary\n",
        "word2idx = {w: i+1 for i,w in enumerate(words)}\n",
        "tag2idx = {t: i for i,t in enumerate(tags)}"
      ],
      "execution_count": null,
      "outputs": []
    },
    {
      "metadata": {
        "trusted": true,
        "colab": {
          "base_uri": "https://localhost:8080/"
        },
        "id": "uYoAE-XVEH-q",
        "outputId": "ac379114-b587-4115-d7ca-ffc7d78ab0ed"
      },
      "cell_type": "code",
      "source": [
        "tag2idx"
      ],
      "execution_count": null,
      "outputs": [
        {
          "output_type": "execute_result",
          "data": {
            "text/plain": [
              "{'FATALITIES': 2, 'LOCATION': 0, 'O': 1}"
            ]
          },
          "metadata": {},
          "execution_count": 20
        }
      ]
    },
    {
      "metadata": {
        "id": "l0fWBP6REH-q"
      },
      "cell_type": "markdown",
      "source": [
        "**Hist plot of len of sentences**"
      ]
    },
    {
      "metadata": {
        "trusted": true,
        "colab": {
          "base_uri": "https://localhost:8080/",
          "height": 283
        },
        "id": "azqJO4BrEH-r",
        "outputId": "1f37f142-745d-4982-b3f8-0e191087649f"
      },
      "cell_type": "code",
      "source": [
        "plt.hist([len(s) for s in sentences], bins = 50)\n",
        "plt.plot()"
      ],
      "execution_count": null,
      "outputs": [
        {
          "output_type": "execute_result",
          "data": {
            "text/plain": [
              "[]"
            ]
          },
          "metadata": {},
          "execution_count": 21
        },
        {
          "output_type": "display_data",
          "data": {
            "text/plain": [
              "<Figure size 432x288 with 1 Axes>"
            ],
            "image/png": "[encoded data removed]"
          },
          "metadata": {
            "needs_background": "light"
          }
        }
      ]
    },
    {
      "metadata": {
        "id": "US1RGcH6EH-r"
      },
      "cell_type": "markdown",
      "source": [
        "Lets take 50 as maxlen to be on safer side"
      ]
    },
    {
      "metadata": {
        "id": "dFvLz78SEH-r"
      },
      "cell_type": "markdown",
      "source": [
        "Padding inputs to maxlen\n",
        "\n",
        "Creating INPUTS AND OUTPUTS"
      ]
    },
    {
      "metadata": {
        "trusted": true,
        "id": "wIRNvkphEH-s"
      },
      "cell_type": "code",
      "source": [
        "from tensorflow.keras.preprocessing.sequence import pad_sequences\n",
        "from tensorflow.keras.utils import to_categorical\n",
        "\n",
        "max_len = 100\n",
        "\n",
        "X = [[word2idx[w[0]] for w in s] for s in sentences]\n",
        "X = pad_sequences(maxlen = max_len, sequences=X, padding='post', value=num_words-1)\n",
        "\n",
        "y = [[tag2idx[w[2]] for w in s] for s in sentences]\n",
        "y = pad_sequences(maxlen = max_len, sequences=y, padding='post', value=tag2idx[\"O\"])\n"
      ],
      "execution_count": null,
      "outputs": []
    },
    {
      "metadata": {
        "id": "O93MdnWSEH-s"
      },
      "cell_type": "markdown",
      "source": [
        "Converting output labes to categorical ( ONE_HOT )"
      ]
    },
    {
      "metadata": {
        "trusted": true,
        "id": "efZFYCG9EH-s"
      },
      "cell_type": "code",
      "source": [
        "y = [to_categorical(i, num_classes=num_tags) for i in y]"
      ],
      "execution_count": null,
      "outputs": []
    },
    {
      "metadata": {
        "trusted": true,
        "colab": {
          "base_uri": "https://localhost:8080/"
        },
        "id": "gsJVcUDBEH-s",
        "outputId": "94c121c4-dd0e-4ea3-b3e3-b369d2575b9f"
      },
      "cell_type": "code",
      "source": [
        "y[0]"
      ],
      "execution_count": null,
      "outputs": [
        {
          "output_type": "execute_result",
          "data": {
            "text/plain": [
              "array([[0., 0., 1.],\n",
              "       [0., 1., 0.],\n",
              "       [0., 1., 0.],\n",
              "       [0., 1., 0.],\n",
              "       [0., 1., 0.],\n",
              "       [0., 1., 0.],\n",
              "       [0., 1., 0.],\n",
              "       [0., 1., 0.],\n",
              "       [0., 1., 0.],\n",
              "       [0., 1., 0.],\n",
              "       [0., 1., 0.],\n",
              "       [0., 1., 0.],\n",
              "       [0., 1., 0.],\n",
              "       [0., 1., 0.],\n",
              "       [0., 1., 0.],\n",
              "       [0., 1., 0.],\n",
              "       [0., 1., 0.],\n",
              "       [0., 1., 0.],\n",
              "       [0., 1., 0.],\n",
              "       [0., 1., 0.],\n",
              "       [0., 1., 0.],\n",
              "       [0., 1., 0.],\n",
              "       [0., 1., 0.],\n",
              "       [0., 1., 0.],\n",
              "       [0., 1., 0.],\n",
              "       [0., 1., 0.],\n",
              "       [0., 1., 0.],\n",
              "       [0., 1., 0.],\n",
              "       [1., 0., 0.],\n",
              "       [0., 1., 0.],\n",
              "       [0., 1., 0.],\n",
              "       [0., 1., 0.],\n",
              "       [0., 1., 0.],\n",
              "       [0., 1., 0.],\n",
              "       [0., 1., 0.],\n",
              "       [0., 1., 0.],\n",
              "       [0., 1., 0.],\n",
              "       [0., 1., 0.],\n",
              "       [0., 1., 0.],\n",
              "       [0., 1., 0.],\n",
              "       [0., 1., 0.],\n",
              "       [0., 1., 0.],\n",
              "       [0., 1., 0.],\n",
              "       [0., 1., 0.],\n",
              "       [0., 1., 0.],\n",
              "       [0., 1., 0.],\n",
              "       [0., 1., 0.],\n",
              "       [0., 1., 0.],\n",
              "       [0., 1., 0.],\n",
              "       [0., 1., 0.],\n",
              "       [0., 1., 0.],\n",
              "       [0., 1., 0.],\n",
              "       [0., 1., 0.],\n",
              "       [0., 1., 0.],\n",
              "       [0., 1., 0.],\n",
              "       [0., 1., 0.],\n",
              "       [0., 1., 0.],\n",
              "       [0., 1., 0.],\n",
              "       [0., 1., 0.],\n",
              "       [0., 1., 0.],\n",
              "       [0., 1., 0.],\n",
              "       [0., 1., 0.],\n",
              "       [0., 1., 0.],\n",
              "       [0., 1., 0.],\n",
              "       [0., 1., 0.],\n",
              "       [0., 1., 0.],\n",
              "       [0., 1., 0.],\n",
              "       [0., 1., 0.],\n",
              "       [0., 1., 0.],\n",
              "       [0., 1., 0.],\n",
              "       [0., 1., 0.],\n",
              "       [0., 1., 0.],\n",
              "       [0., 1., 0.],\n",
              "       [0., 1., 0.],\n",
              "       [0., 1., 0.],\n",
              "       [0., 1., 0.],\n",
              "       [0., 1., 0.],\n",
              "       [0., 1., 0.],\n",
              "       [0., 1., 0.],\n",
              "       [0., 1., 0.],\n",
              "       [0., 1., 0.],\n",
              "       [0., 1., 0.],\n",
              "       [0., 1., 0.],\n",
              "       [0., 1., 0.],\n",
              "       [0., 1., 0.],\n",
              "       [0., 1., 0.],\n",
              "       [0., 1., 0.],\n",
              "       [0., 1., 0.],\n",
              "       [0., 1., 0.],\n",
              "       [0., 1., 0.],\n",
              "       [0., 1., 0.],\n",
              "       [0., 1., 0.],\n",
              "       [0., 1., 0.],\n",
              "       [0., 1., 0.],\n",
              "       [0., 1., 0.],\n",
              "       [0., 1., 0.],\n",
              "       [0., 1., 0.],\n",
              "       [0., 1., 0.],\n",
              "       [0., 1., 0.],\n",
              "       [0., 1., 0.]], dtype=float32)"
            ]
          },
          "metadata": {},
          "execution_count": 24
        }
      ]
    },
    {
      "metadata": {
        "id": "F-yqglgLEH-s"
      },
      "cell_type": "markdown",
      "source": [
        "Now train-test splitting"
      ]
    },
    {
      "metadata": {
        "trusted": true,
        "id": "puvz8UhyEH-s"
      },
      "cell_type": "code",
      "source": [
        "from sklearn.model_selection import train_test_split\n",
        "x_train, x_test, y_train, y_test = train_test_split(X, y, test_size=0.1,random_state=1 )"
      ],
      "execution_count": null,
      "outputs": []
    },
    {
      "metadata": {
        "id": "xzZAvzEzEH-t"
      },
      "cell_type": "markdown",
      "source": [
        "Building and compiling a BiLSTM"
      ]
    },
    {
      "metadata": {
        "trusted": true,
        "id": "vogypPq1EH-t"
      },
      "cell_type": "code",
      "source": [
        "from tensorflow.keras import Model, Input\n",
        "from tensorflow.keras.layers import LSTM, Embedding, Dense\n",
        "from tensorflow.keras.layers import TimeDistributed, SpatialDropout1D, Bidirectional"
      ],
      "execution_count": null,
      "outputs": []
    },
    {
      "metadata": {
        "trusted": true,
        "colab": {
          "base_uri": "https://localhost:8080/"
        },
        "id": "Tu7fYuzTEH-t",
        "outputId": "5e5607be-6251-4619-b6bc-e7a40369379d"
      },
      "cell_type": "code",
      "source": [
        "input_word = Input(shape=(max_len,))\n",
        "model = Embedding(input_dim=num_words, output_dim=max_len, input_length=max_len)(input_word)\n",
        "model = SpatialDropout1D(0.1)(model)\n",
        "model = Bidirectional(LSTM(units=100, return_sequences=True, recurrent_dropout=0.1))(model)\n",
        "out = TimeDistributed(Dense(num_ta=gs, activation='softmax'))(model)\n",
        "\n",
        "model = Model(input_word, out)\n",
        "model.summary()\n"
      ],
      "execution_count": null,
      "outputs": [
        {
          "output_type": "stream",
          "name": "stdout",
          "text": [
            "Model: \"model\"\n",
            "_________________________________________________________________\n",
            " Layer (type)                Output Shape              Param #   \n",
            "=================================================================\n",
            " input_1 (InputLayer)        [(None, 100)]             0         \n",
            "                                                                 \n",
            " embedding (Embedding)       (None, 100, 100)          3271700   \n",
            "                                                                 \n",
            " spatial_dropout1d (SpatialD  (None, 100, 100)         0         \n",
            " ropout1D)                                                       \n",
            "                                                                 \n",
            " bidirectional (Bidirectiona  (None, 100, 200)         160800    \n",
            " l)                                                              \n",
            "                                                                 \n",
            " time_distributed (TimeDistr  (None, 100, 3)           603       \n",
            " ibuted)                                                         \n",
            "                                                                 \n",
            "=================================================================\n",
            "Total params: 3,433,103\n",
            "Trainable params: 3,433,103\n",
            "Non-trainable params: 0\n",
            "_________________________________________________________________\n"
          ]
        }
      ]
    },
    {
      "metadata": {
        "trusted": true,
        "id": "IwlD4UPZEH-t"
      },
      "cell_type": "code",
      "source": [
        "model.compile(optimizer='adam',loss='categorical_crossentropy',\n",
        "             metrics=['accuracy'])"
      ],
      "execution_count": null,
      "outputs": []
    },
    {
      "metadata": {
        "id": "_pCktzlqEH-t"
      },
      "cell_type": "markdown",
      "source": [
        "TRAINING MODEL with per-epoch visualizations using CALLBACKS"
      ]
    },
    {
      "metadata": {
        "trusted": true,
        "colab": {
          "base_uri": "https://localhost:8080/"
        },
        "id": "FgArAJJ9EH-t",
        "outputId": "72ef548b-d9bf-487b-e62e-3d62c2f0cba9"
      },
      "cell_type": "code",
      "source": [
        "!pip install livelossplot"
      ],
      "execution_count": null,
      "outputs": [
        {
          "output_type": "stream",
          "name": "stdout",
          "text": [
            "Collecting livelossplot\n",
            "  Downloading livelossplot-0.5.4-py3-none-any.whl (22 kB)\n",
            "Requirement already satisfied: ipython in /usr/local/lib/python3.7/dist-packages (from livelossplot) (5.5.0)\n",
            "Requirement already satisfied: bokeh in /usr/local/lib/python3.7/dist-packages (from livelossplot) (2.3.3)\n",
            "Requirement already satisfied: matplotlib in /usr/local/lib/python3.7/dist-packages (from livelossplot) (3.2.2)\n",
            "Requirement already satisfied: pillow>=7.1.0 in /usr/local/lib/python3.7/dist-packages (from bokeh->livelossplot) (7.1.2)\n",
            "Requirement already satisfied: typing-extensions>=3.7.4 in /usr/local/lib/python3.7/dist-packages (from bokeh->livelossplot) (3.10.0.2)\n",
            "Requirement already satisfied: PyYAML>=3.10 in /usr/local/lib/python3.7/dist-packages (from bokeh->livelossplot) (3.13)\n",
            "Requirement already satisfied: numpy>=1.11.3 in /usr/local/lib/python3.7/dist-packages (from bokeh->livelossplot) (1.21.5)\n",
            "Requirement already satisfied: python-dateutil>=2.1 in /usr/local/lib/python3.7/dist-packages (from bokeh->livelossplot) (2.8.2)\n",
            "Requirement already satisfied: packaging>=16.8 in /usr/local/lib/python3.7/dist-packages (from bokeh->livelossplot) (21.3)\n",
            "Requirement already satisfied: tornado>=5.1 in /usr/local/lib/python3.7/dist-packages (from bokeh->livelossplot) (5.1.1)\n",
            "Requirement already satisfied: Jinja2>=2.9 in /usr/local/lib/python3.7/dist-packages (from bokeh->livelossplot) (2.11.3)\n",
            "Requirement already satisfied: MarkupSafe>=0.23 in /usr/local/lib/python3.7/dist-packages (from Jinja2>=2.9->bokeh->livelossplot) (2.0.1)\n",
            "Requirement already satisfied: pyparsing!=3.0.5,>=2.0.2 in /usr/local/lib/python3.7/dist-packages (from packaging>=16.8->bokeh->livelossplot) (3.0.7)\n",
            "Requirement already satisfied: six>=1.5 in /usr/local/lib/python3.7/dist-packages (from python-dateutil>=2.1->bokeh->livelossplot) (1.15.0)\n",
            "Requirement already satisfied: setuptools>=18.5 in /usr/local/lib/python3.7/dist-packages (from ipython->livelossplot) (57.4.0)\n",
            "Requirement already satisfied: simplegeneric>0.8 in /usr/local/lib/python3.7/dist-packages (from ipython->livelossplot) (0.8.1)\n",
            "Requirement already satisfied: pexpect in /usr/local/lib/python3.7/dist-packages (from ipython->livelossplot) (4.8.0)\n",
            "Requirement already satisfied: pygments in /usr/local/lib/python3.7/dist-packages (from ipython->livelossplot) (2.6.1)\n",
            "Requirement already satisfied: pickleshare in /usr/local/lib/python3.7/dist-packages (from ipython->livelossplot) (0.7.5)\n",
            "Requirement already satisfied: traitlets>=4.2 in /usr/local/lib/python3.7/dist-packages (from ipython->livelossplot) (5.1.1)\n",
            "Requirement already satisfied: prompt-toolkit<2.0.0,>=1.0.4 in /usr/local/lib/python3.7/dist-packages (from ipython->livelossplot) (1.0.18)\n",
            "Requirement already satisfied: decorator in /usr/local/lib/python3.7/dist-packages (from ipython->livelossplot) (4.4.2)\n",
            "Requirement already satisfied: wcwidth in /usr/local/lib/python3.7/dist-packages (from prompt-toolkit<2.0.0,>=1.0.4->ipython->livelossplot) (0.2.5)\n",
            "Requirement already satisfied: cycler>=0.10 in /usr/local/lib/python3.7/dist-packages (from matplotlib->livelossplot) (0.11.0)\n",
            "Requirement already satisfied: kiwisolver>=1.0.1 in /usr/local/lib/python3.7/dist-packages (from matplotlib->livelossplot) (1.4.0)\n",
            "Requirement already satisfied: ptyprocess>=0.5 in /usr/local/lib/python3.7/dist-packages (from pexpect->ipython->livelossplot) (0.7.0)\n",
            "Installing collected packages: livelossplot\n",
            "Successfully installed livelossplot-0.5.4\n"
          ]
        }
      ]
    },
    {
      "metadata": {
        "trusted": true,
        "id": "Nghkh0QJEH-t"
      },
      "cell_type": "code",
      "source": [
        "from tensorflow.keras.callbacks import EarlyStopping\n",
        "from livelossplot import PlotLossesKeras\n"
      ],
      "execution_count": null,
      "outputs": []
    },
    {
      "metadata": {
        "trusted": true,
        "colab": {
          "base_uri": "https://localhost:8080/"
        },
        "id": "JH2542buEH-t",
        "outputId": "3444f900-6721-4843-e929-196fc9fcf3bb"
      },
      "cell_type": "code",
      "source": [
        "type(y_train)"
      ],
      "execution_count": null,
      "outputs": [
        {
          "output_type": "execute_result",
          "data": {
            "text/plain": [
              "list"
            ]
          },
          "metadata": {},
          "execution_count": 31
        }
      ]
    },
    {
      "metadata": {
        "trusted": true,
        "colab": {
          "base_uri": "https://localhost:8080/",
          "height": 710
        },
        "id": "nqGnK0yBEH-t",
        "outputId": "f6d2344c-6486-46bb-96e4-a3941ac19740"
      },
      "cell_type": "code",
      "source": [
        "early_stopping = EarlyStopping(monitor='val_accuracy', patience = 1, verbose=0, mode='max', restore_best_weights=False)\n",
        "callbacks = [PlotLossesKeras(), early_stopping]\n",
        "\n",
        "history = model.fit(\n",
        "    x_train, np.array(y_train),\n",
        "    validation_split=0.2,\n",
        "    batch_size=32,\n",
        "    epochs=3,\n",
        "    verbose=1,\n",
        "    callbacks=callbacks\n",
        ")"
      ],
      "execution_count": null,
      "outputs": [
        {
          "output_type": "display_data",
          "data": {
            "text/plain": [
              "<Figure size 864x576 with 2 Axes>"
            ],
            "image/png": "[encoded data removed]"
          },
          "metadata": {
            "needs_background": "light"
          }
        },
        {
          "output_type": "stream",
          "name": "stdout",
          "text": [
            "accuracy\n",
            "\ttraining         \t (min:    0.991, max:    0.996, cur:    0.996)\n",
            "\tvalidation       \t (min:    0.994, max:    0.995, cur:    0.995)\n",
            "Loss\n",
            "\ttraining         \t (min:    0.008, max:    0.048, cur:    0.008)\n",
            "\tvalidation       \t (min:    0.013, max:    0.016, cur:    0.013)\n",
            "\b\b\b\b\b\b\b\b\b\b\b\b\b\b\b\b\b\b\b\b\b\b\b\b\b\b\b\b\b\b\b\b\b\b\b\b\b\b\b\b\b\b\b\b\b\b\b\b\b\b\b\b\b\b\b\b\b\b\b\b\b\b\b\b\b\b\b\b\b\b\b\b\b\b\b\b\b\b\b\b\b\b\b\b\r450/450 [==============================] - 164s 364ms/step - loss: 0.0084 - accuracy: 0.9964 - val_loss: 0.0127 - val_accuracy: 0.9952\n"
          ]
        }
      ]
    },
    {
      "metadata": {
        "trusted": true,
        "colab": {
          "base_uri": "https://localhost:8080/"
        },
        "id": "juECYUiXEH-t",
        "outputId": "90528c8b-7b34-4d11-f90f-62f977aac22f"
      },
      "cell_type": "code",
      "source": [
        "model.evaluate(x_test, np.array(y_test))"
      ],
      "execution_count": null,
      "outputs": [
        {
          "output_type": "stream",
          "name": "stdout",
          "text": [
            "63/63 [==============================] - 4s 68ms/step - loss: 0.0142 - accuracy: 0.9945\n"
          ]
        },
        {
          "output_type": "execute_result",
          "data": {
            "text/plain": [
              "[0.014166239649057388, 0.9944599866867065]"
            ]
          },
          "metadata": {},
          "execution_count": 33
        }
      ]
    },
    {
      "metadata": {
        "trusted": true,
        "colab": {
          "base_uri": "https://localhost:8080/"
        },
        "id": "BOKJEwa_EH-u",
        "outputId": "07e522d3-65ae-4a92-b8b9-f0dbbeb9ce43"
      },
      "cell_type": "code",
      "source": [
        "x_test[0]"
      ],
      "execution_count": null,
      "outputs": [
        {
          "output_type": "execute_result",
          "data": {
            "text/plain": [
              "array([10740, 21580,  5273, 25343,  3925, 20504, 20501, 21921,  2169,\n",
              "       11203, 18765, 12762, 31234,  9287, 25481, 31882,  1981, 29511,\n",
              "       10623, 12762, 29871, 32716, 32716, 32716, 32716, 32716, 32716,\n",
              "       32716, 32716, 32716, 32716, 32716, 32716, 32716, 32716, 32716,\n",
              "       32716, 32716, 32716, 32716, 32716, 32716, 32716, 32716, 32716,\n",
              "       32716, 32716, 32716, 32716, 32716, 32716, 32716, 32716, 32716,\n",
              "       32716, 32716, 32716, 32716, 32716, 32716, 32716, 32716, 32716,\n",
              "       32716, 32716, 32716, 32716, 32716, 32716, 32716, 32716, 32716,\n",
              "       32716, 32716, 32716, 32716, 32716, 32716, 32716, 32716, 32716,\n",
              "       32716, 32716, 32716, 32716, 32716, 32716, 32716, 32716, 32716,\n",
              "       32716, 32716, 32716, 32716, 32716, 32716, 32716, 32716, 32716,\n",
              "       32716], dtype=int32)"
            ]
          },
          "metadata": {},
          "execution_count": 34
        }
      ]
    },
    {
      "cell_type": "code",
      "source": [
        "len(word2idx)"
      ],
      "metadata": {
        "colab": {
          "base_uri": "https://localhost:8080/"
        },
        "id": "LtFeviO1LTIF",
        "outputId": "31ab374d-1b83-454c-c0b8-f47df5954efe"
      },
      "execution_count": null,
      "outputs": [
        {
          "output_type": "execute_result",
          "data": {
            "text/plain": [
              "32717"
            ]
          },
          "metadata": {},
          "execution_count": 35
        }
      ]
    },
    {
      "metadata": {
        "trusted": true,
        "colab": {
          "base_uri": "https://localhost:8080/"
        },
        "id": "GUgpW0BAEH-u",
        "outputId": "8c8d6dfb-9896-46ce-a492-1bd53ae1cd86"
      },
      "cell_type": "code",
      "source": [
        "i = np.random.randint(0, x_test.shape[0])\n",
        "p = model.predict(np.array([x_test[i]]))\n",
        "# print(np.shape(p))\n",
        "# print(p)\n",
        "p = np.argmax(p, axis=-1)\n",
        "\n",
        "\n",
        "y_true = np.argmax(np.array(y_test), axis=-1)[i]\n",
        "\n",
        "print(\"{:15}{:5}\\t{}\\n\".format(\"Word\", \"True\", \"Pred\"))\n",
        "print(\"-\"*30)\n",
        "\n",
        "\n",
        "\n",
        "for (w, t, pred) in zip(x_test[i], y_true, p[0]):\n",
        "    print(\"{:15}{}\\t{}\".format(words[w-1], tags[t], tags[pred]))"
      ],
      "execution_count": null,
      "outputs": [
        {
          "output_type": "stream",
          "name": "stdout",
          "text": [
            "Word           True \tPred\n",
            "\n",
            "------------------------------\n",
            "Armed          O\tO\n",
            "herders        O\tO\n",
            "shot           O\tO\n",
            "and            O\tO\n",
            "killed         O\tO\n",
            "a              O\tO\n",
            "farmer         O\tO\n",
            "as             O\tO\n",
            "she            O\tO\n",
            "was            O\tO\n",
            "attempting     O\tO\n",
            "to             O\tO\n",
            "chase          O\tO\n",
            "away           O\tO\n",
            "the            O\tO\n",
            "herders        O\tO\n",
            "camels         O\tO\n",
            "from           O\tO\n",
            "her            O\tO\n",
            "farmland       O\tO\n",
            "in             O\tO\n",
            "Hawa           O\tO\n",
            "Nureldaim      O\tO\n",
            "near           O\tO\n",
            "Tawila         O\tLOCATION\n",
            "locality       O\tO\n",
            "Two            O\tO\n",
            "other          O\tO\n",
            "people         O\tO\n",
            "on             O\tO\n",
            "the            O\tO\n",
            "farm           O\tO\n",
            "were           O\tO\n",
            "abducted       O\tO\n",
            "and            O\tO\n",
            "livestock      O\tO\n",
            "taken          O\tO\n",
            "tarmac         O\tO\n",
            "tarmac         O\tO\n",
            "tarmac         O\tO\n",
            "tarmac         O\tO\n",
            "tarmac         O\tO\n",
            "tarmac         O\tO\n",
            "tarmac         O\tO\n",
            "tarmac         O\tO\n",
            "tarmac         O\tO\n",
            "tarmac         O\tO\n",
            "tarmac         O\tO\n",
            "tarmac         O\tO\n",
            "tarmac         O\tO\n",
            "tarmac         O\tO\n",
            "tarmac         O\tO\n",
            "tarmac         O\tO\n",
            "tarmac         O\tO\n",
            "tarmac         O\tO\n",
            "tarmac         O\tO\n",
            "tarmac         O\tO\n",
            "tarmac         O\tO\n",
            "tarmac         O\tO\n",
            "tarmac         O\tO\n",
            "tarmac         O\tO\n",
            "tarmac         O\tO\n",
            "tarmac         O\tO\n",
            "tarmac         O\tO\n",
            "tarmac         O\tO\n",
            "tarmac         O\tO\n",
            "tarmac         O\tO\n",
            "tarmac         O\tO\n",
            "tarmac         O\tO\n",
            "tarmac         O\tO\n",
            "tarmac         O\tO\n",
            "tarmac         O\tO\n",
            "tarmac         O\tO\n",
            "tarmac         O\tO\n",
            "tarmac         O\tO\n",
            "tarmac         O\tO\n",
            "tarmac         O\tO\n",
            "tarmac         O\tO\n",
            "tarmac         O\tO\n",
            "tarmac         O\tO\n",
            "tarmac         O\tO\n",
            "tarmac         O\tO\n",
            "tarmac         O\tO\n",
            "tarmac         O\tO\n",
            "tarmac         O\tO\n",
            "tarmac         O\tO\n",
            "tarmac         O\tO\n",
            "tarmac         O\tO\n",
            "tarmac         O\tO\n",
            "tarmac         O\tO\n",
            "tarmac         O\tO\n",
            "tarmac         O\tO\n",
            "tarmac         O\tO\n",
            "tarmac         O\tO\n",
            "tarmac         O\tO\n",
            "tarmac         O\tO\n",
            "tarmac         O\tO\n",
            "tarmac         O\tO\n",
            "tarmac         O\tO\n",
            "tarmac         O\tO\n"
          ]
        }
      ]
    },
    {
      "cell_type": "code",
      "source": [
        "non_o_counts = 0\n",
        "non_o_counts_correct = 0\n",
        "for i in range(x_test.shape[0]):\n",
        "    p = model.predict(np.array([x_test[i]]))\n",
        "    # print(np.shape(p))\n",
        "    # print(p)\n",
        "    p = np.argmax(p, axis=-1)\n",
        "\n",
        "    y_true = np.argmax(np.array(y_test), axis=-1)[i]\n",
        "    for (w, t, pred) in zip(x_test[i], y_true, p[0]):\n",
        "        if not tags[t] == \"O\":\n",
        "            non_o_counts += 1\n",
        "            if tags[t] == tags[pred]:\n",
        "                non_o_counts_correct += 1"
      ],
      "metadata": {
        "id": "QBJoKnOnr1mj"
      },
      "execution_count": null,
      "outputs": []
    },
    {
      "metadata": {
        "trusted": true,
        "id": "LxBfnFemEH-u",
        "colab": {
          "base_uri": "https://localhost:8080/"
        },
        "outputId": "25bc7bd0-6f32-4815-bb4f-e455a9b2ed26"
      },
      "cell_type": "code",
      "source": [
        "print(non_o_counts, non_o_counts_correct)"
      ],
      "execution_count": null,
      "outputs": [
        {
          "output_type": "stream",
          "name": "stdout",
          "text": [
            "1551 879\n"
          ]
        }
      ]
    },
    {
      "cell_type": "code",
      "source": [
        "non_o_counts_correct / non_o_counts"
      ],
      "metadata": {
        "colab": {
          "base_uri": "https://localhost:8080/"
        },
        "id": "so-ybE0Jw317",
        "outputId": "65611071-42ce-43e5-b856-0b7e2e0e1841"
      },
      "execution_count": null,
      "outputs": [
        {
          "output_type": "execute_result",
          "data": {
            "text/plain": [
              "0.5667311411992263"
            ]
          },
          "metadata": {},
          "execution_count": 41
        }
      ]
    },
    {
      "cell_type": "code",
      "source": [
        "model.save('loc_and_fata')"
      ],
      "metadata": {
        "colab": {
          "base_uri": "https://localhost:8080/"
        },
        "id": "7hRF-PoBz9bu",
        "outputId": "73be3e7d-0832-4333-e61a-44cef7360554"
      },
      "execution_count": null,
      "outputs": [
        {
          "output_type": "stream",
          "name": "stdout",
          "text": [
            "INFO:tensorflow:Assets written to: loc_and_fata/assets\n"
          ]
        },
        {
          "output_type": "stream",
          "name": "stderr",
          "text": [
            "WARNING:absl:<keras.layers.recurrent.LSTMCell object at 0x7fb91c460b10> has the same name 'LSTMCell' as a built-in Keras object. Consider renaming <class 'keras.layers.recurrent.LSTMCell'> to avoid naming conflicts when loading with `tf.keras.models.load_model`. If renaming is not possible, pass the object in the `custom_objects` parameter of the load function.\n",
            "WARNING:absl:<keras.layers.recurrent.LSTMCell object at 0x7fb91c342790> has the same name 'LSTMCell' as a built-in Keras object. Consider renaming <class 'keras.layers.recurrent.LSTMCell'> to avoid naming conflicts when loading with `tf.keras.models.load_model`. If renaming is not possible, pass the object in the `custom_objects` parameter of the load function.\n"
          ]
        }
      ]
    },
    {
      "cell_type": "code",
      "source": [
        "loaded = tf.keras.models.load_model(\"loc_and_fata\")"
      ],
      "metadata": {
        "id": "m3O_TsLl0XNt"
      },
      "execution_count": null,
      "outputs": []
    },
    {
      "cell_type": "code",
      "source": [
        "from google.colab import drive\n",
        "drive.mount('/content/drive')"
      ],
      "metadata": {
        "colab": {
          "base_uri": "https://localhost:8080/"
        },
        "id": "hJbLyESP018m",
        "outputId": "a313538e-2ad1-4562-9fad-7f8798c729fe"
      },
      "execution_count": null,
      "outputs": [
        {
          "output_type": "stream",
          "name": "stdout",
          "text": [
            "Mounted at /content/drive\n"
          ]
        }
      ]
    }
  ],
  "metadata": {
    "kernelspec": {
      "language": "python",
      "display_name": "Python 3",
      "name": "python3"
    },
    "language_info": {
      "pygments_lexer": "ipython3",
      "nbconvert_exporter": "python",
      "version": "3.6.4",
      "file_extension": ".py",
      "codemirror_mode": {
        "name": "ipython",
        "version": 3
      },
      "name": "python",
      "mimetype": "text/x-python"
    },
    "colab": {
      "name": "ner-with-liveplotloss.ipynb",
      "provenance": [],
      "collapsed_sections": []
    }
  },
  "nbformat": 4,
  "nbformat_minor": 0
}