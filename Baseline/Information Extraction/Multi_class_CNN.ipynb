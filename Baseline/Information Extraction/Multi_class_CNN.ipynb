{
  "cells": [
    {
      "cell_type": "code",
      "execution_count": null,
      "metadata": {
        "id": "CkYzHQaIwbQB"
      },
      "outputs": [],
      "source": [
        "import torch\n",
        "from torchtext.legacy import data\n",
        "from torchtext.legacy import datasets\n",
        "import random\n",
        "\n",
        "SEED = 1234\n",
        "\n",
        "torch.manual_seed(SEED)\n",
        "torch.backends.cudnn.deterministic = True\n",
        "\n",
        "# train_data, test_data = datasets.TREC.splits(TEXT, LABEL, fine_grained=False)\n",
        "# train_data, valid_data = train_data.split(random_state = random.seed(SEED))"
      ]
    },
    {
      "cell_type": "code",
      "source": [
        "TEXT = data.Field(tokenize = 'spacy', tokenizer_language = 'en_core_web_sm')\n",
        "# EVENT_DATE = data.Field()\n",
        "# SOURCE = data.Field()\n",
        "# FATALITIES = data.Field()\n",
        "# EVENT_TYPE = data.LabelField()\n",
        "# SUB_EVENT_TYPE = data.LabelField()\n",
        "# ACTOR1 = data.LabelField()\n",
        "# INTER1 = data.LabelField()\n",
        "# ACTOR2 = data.LabelField()\n",
        "# INTER2 = data.LabelField()\n",
        "# INTERACTION = data.Field()\n",
        "# LOCATION = data.Field()\n",
        "\n",
        "LABEL = data.LabelField()\n",
        "\n",
        "# create tuples representing the columns\n",
        "fields = [\n",
        "          ('text', TEXT),\n",
        "          (None, None),\n",
        "          (None, None),\n",
        "          (None, None),\n",
        "          (None, None),\n",
        "          (None, None),\n",
        "          (None, None),\n",
        "          (None, None),\n",
        "          (None, None),\n",
        "          ('label', LABEL),\n",
        "          (None, None),\n",
        "          (None, None),\n",
        "]\n",
        "\n",
        "# load the dataset in json format\n",
        "# https://dzlab.github.io/dltips/en/pytorch/torchtext-datasets/\n",
        "train_data, valid_data, test_data = data.TabularDataset.splits(\n",
        "   path = '',\n",
        "   train = 'task_1_information_extraction_train_20k.csv',\n",
        "   validation = 'task_1_information_extraction_valid_5k.csv',\n",
        "   test = 'task_1_information_extraction_valid_5k.csv',\n",
        "   format = 'csv',\n",
        "   fields = fields,\n",
        "   skip_header = True\n",
        ")\n",
        "\n",
        "# check an example\n",
        "print(vars(train_data[0]))\n",
        "\n",
        "# train_data, valid_data = train_data.split(random_state = random.seed(SEED))"
      ],
      "metadata": {
        "colab": {
          "base_uri": "https://localhost:8080/"
        },
        "id": "4c7qx3qb8LUW",
        "outputId": "c72a59d0-c58b-46f8-c081-ad1b5db22e32"
      },
      "execution_count": null,
      "outputs": [
        {
          "output_type": "stream",
          "name": "stdout",
          "text": [
            "{'text': ['Three', 'people', 'were', 'killed', 'while', '27', 'others', 'injured', 'when', 'a', 'Peshawar', '-', 'bound', 'train', 'hit', 'a', 'bomb', 'planted', 'by', 'unidentified', 'militants', 'on', 'railway', 'tracks', 'in', 'Tul', 'town', 'in', 'Jacobabad', 'district', 'in', 'Sindh', '.'], 'label': '7'}\n"
          ]
        }
      ]
    },
    {
      "cell_type": "markdown",
      "metadata": {
        "id": "kz_c7wMgwbQD"
      },
      "source": [
        "Let's look at one of the examples in the training set."
      ]
    },
    {
      "cell_type": "code",
      "execution_count": null,
      "metadata": {
        "id": "viYySA34wbQD",
        "outputId": "76efbf1e-5d84-4c5f-e68e-914253c6854b",
        "colab": {
          "base_uri": "https://localhost:8080/"
        }
      },
      "outputs": [
        {
          "output_type": "execute_result",
          "data": {
            "text/plain": [
              "{'label': '7',\n",
              " 'text': ['Three',\n",
              "  'people',\n",
              "  'were',\n",
              "  'killed',\n",
              "  'while',\n",
              "  '27',\n",
              "  'others',\n",
              "  'injured',\n",
              "  'when',\n",
              "  'a',\n",
              "  'Peshawar',\n",
              "  '-',\n",
              "  'bound',\n",
              "  'train',\n",
              "  'hit',\n",
              "  'a',\n",
              "  'bomb',\n",
              "  'planted',\n",
              "  'by',\n",
              "  'unidentified',\n",
              "  'militants',\n",
              "  'on',\n",
              "  'railway',\n",
              "  'tracks',\n",
              "  'in',\n",
              "  'Tul',\n",
              "  'town',\n",
              "  'in',\n",
              "  'Jacobabad',\n",
              "  'district',\n",
              "  'in',\n",
              "  'Sindh',\n",
              "  '.']}"
            ]
          },
          "metadata": {},
          "execution_count": 73
        }
      ],
      "source": [
        "vars(train_data[0])"
      ]
    },
    {
      "cell_type": "code",
      "source": [
        "vars(valid_data[-1])"
      ],
      "metadata": {
        "colab": {
          "base_uri": "https://localhost:8080/"
        },
        "id": "wutjkk-my10b",
        "outputId": "81795e38-da1c-4a7b-fbd9-85c4e70bdd8d"
      },
      "execution_count": null,
      "outputs": [
        {
          "output_type": "execute_result",
          "data": {
            "text/plain": [
              "{'label': '7',\n",
              " 'text': ['Rebel',\n",
              "  'fighters',\n",
              "  'raped',\n",
              "  '9',\n",
              "  'girls',\n",
              "  'at',\n",
              "  'a',\n",
              "  'church',\n",
              "  'in',\n",
              "  'Malakal',\n",
              "  '[',\n",
              "  'women',\n",
              "  'targeted',\n",
              "  ':',\n",
              "  'girls',\n",
              "  ']']}"
            ]
          },
          "metadata": {},
          "execution_count": 74
        }
      ]
    },
    {
      "cell_type": "markdown",
      "metadata": {
        "id": "Pp9UQihGwbQD"
      },
      "source": [
        "Next, we'll build the vocabulary. "
      ]
    },
    {
      "cell_type": "code",
      "execution_count": null,
      "metadata": {
        "id": "DpgJF6rdwbQD"
      },
      "outputs": [],
      "source": [
        "MAX_VOCAB_SIZE = 25_000\n",
        "\n",
        "TEXT.build_vocab(train_data, \n",
        "                 max_size = MAX_VOCAB_SIZE, \n",
        "                 vectors = \"glove.6B.100d\", \n",
        "                 unk_init = torch.Tensor.normal_)\n",
        "\n",
        "# LABEL.build_vocab(train_data)\n",
        "LABEL.build_vocab(valid_data)"
      ]
    },
    {
      "cell_type": "markdown",
      "metadata": {
        "id": "pKjuJK7lwbQE"
      },
      "source": [
        "Next, we can check the labels.\n",
        "\n",
        "The 6 labels (for the non-fine-grained case) correspond to the 6 types of Events, but can be used for any column"
      ]
    },
    {
      "cell_type": "code",
      "execution_count": null,
      "metadata": {
        "id": "c24ObQ7lwbQF",
        "outputId": "0cb8df9e-c1bd-4a54-f5bb-d6eb69200d33",
        "colab": {
          "base_uri": "https://localhost:8080/"
        }
      },
      "outputs": [
        {
          "output_type": "stream",
          "name": "stdout",
          "text": [
            "defaultdict(None, {'7': 0, '2': 1, '1': 2, '3': 3, '0': 4, '8': 5, '4': 6, '5': 7, '6': 8})\n"
          ]
        }
      ],
      "source": [
        "print(LABEL.vocab.stoi)"
      ]
    },
    {
      "cell_type": "markdown",
      "metadata": {
        "id": "n0LA-HN3wbQF"
      },
      "source": [
        "As always, we set up the iterators."
      ]
    },
    {
      "cell_type": "code",
      "execution_count": null,
      "metadata": {
        "id": "TlZ44dyBwbQF"
      },
      "outputs": [],
      "source": [
        "BATCH_SIZE = 64\n",
        "\n",
        "device = torch.device('cuda' if torch.cuda.is_available() else 'cpu')\n",
        "\n",
        "train_iterator, valid_iterator, test_iterator = data.BucketIterator.splits(\n",
        "    (train_data, valid_data, test_data), \n",
        "    batch_size = BATCH_SIZE, \n",
        "    # sort_key = lambda x: len(x),\n",
        "    # sort_within_batch = False,\n",
        "    sort = False,\n",
        "    device = device)"
      ]
    },
    {
      "cell_type": "markdown",
      "metadata": {
        "id": "dXi6ng5FwbQG"
      },
      "source": [
        "We'll be using the CNN model."
      ]
    },
    {
      "cell_type": "code",
      "execution_count": null,
      "metadata": {
        "id": "cFbvrQZEwbQG"
      },
      "outputs": [],
      "source": [
        "import torch.nn as nn\n",
        "import torch.nn.functional as F\n",
        "\n",
        "class CNN(nn.Module):\n",
        "    def __init__(self, vocab_size, embedding_dim, n_filters, filter_sizes, output_dim, \n",
        "                 dropout, pad_idx):\n",
        "        \n",
        "        super().__init__()\n",
        "        \n",
        "        self.embedding = nn.Embedding(vocab_size, embedding_dim)\n",
        "        \n",
        "        self.convs = nn.ModuleList([\n",
        "                                    nn.Conv2d(in_channels = 1, \n",
        "                                              out_channels = n_filters, \n",
        "                                              kernel_size = (fs, embedding_dim)) \n",
        "                                    for fs in filter_sizes\n",
        "                                    ])\n",
        "        \n",
        "        self.fc = nn.Linear(len(filter_sizes) * n_filters, output_dim)\n",
        "        \n",
        "        self.dropout = nn.Dropout(dropout)\n",
        "        \n",
        "    def forward(self, text):\n",
        "        \n",
        "        #text = [sent len, batch size]\n",
        "        \n",
        "        text = text.permute(1, 0)\n",
        "                \n",
        "        #text = [batch size, sent len]\n",
        "        \n",
        "        embedded = self.embedding(text)\n",
        "                \n",
        "        #embedded = [batch size, sent len, emb dim]\n",
        "        \n",
        "        embedded = embedded.unsqueeze(1)\n",
        "        \n",
        "        #embedded = [batch size, 1, sent len, emb dim]\n",
        "        \n",
        "        conved = [F.relu(conv(embedded)).squeeze(3) for conv in self.convs]\n",
        "            \n",
        "        #conv_n = [batch size, n_filters, sent len - filter_sizes[n]]\n",
        "        \n",
        "        pooled = [F.max_pool1d(conv, conv.shape[2]).squeeze(2) for conv in conved]\n",
        "        \n",
        "        #pooled_n = [batch size, n_filters]\n",
        "        \n",
        "        cat = self.dropout(torch.cat(pooled, dim = 1))\n",
        "\n",
        "        #cat = [batch size, n_filters * len(filter_sizes)]\n",
        "            \n",
        "        return self.fc(cat)"
      ]
    },
    {
      "cell_type": "code",
      "execution_count": null,
      "metadata": {
        "id": "JIxWYK93wbQG"
      },
      "outputs": [],
      "source": [
        "INPUT_DIM = len(TEXT.vocab)\n",
        "EMBEDDING_DIM = 100\n",
        "N_FILTERS = 100\n",
        "FILTER_SIZES = [2,3,4]\n",
        "OUTPUT_DIM = len(LABEL.vocab)\n",
        "DROPOUT = 0.5\n",
        "PAD_IDX = TEXT.vocab.stoi[TEXT.pad_token]\n",
        "\n",
        "model = CNN(INPUT_DIM, EMBEDDING_DIM, N_FILTERS, FILTER_SIZES, OUTPUT_DIM, DROPOUT, PAD_IDX)"
      ]
    },
    {
      "cell_type": "markdown",
      "metadata": {
        "id": "ccDemMf_wbQH"
      },
      "source": [
        "Checking the number of parameters"
      ]
    },
    {
      "cell_type": "code",
      "execution_count": null,
      "metadata": {
        "id": "0y2IwA7wwbQH",
        "outputId": "f879a034-ee5c-4ad9-a4c0-3b7123d7c458",
        "colab": {
          "base_uri": "https://localhost:8080/"
        }
      },
      "outputs": [
        {
          "output_type": "stream",
          "name": "stdout",
          "text": [
            "The model has 2,593,209 trainable parameters\n"
          ]
        }
      ],
      "source": [
        "def count_parameters(model):\n",
        "    return sum(p.numel() for p in model.parameters() if p.requires_grad)\n",
        "\n",
        "print(f'The model has {count_parameters(model):,} trainable parameters')"
      ]
    },
    {
      "cell_type": "markdown",
      "metadata": {
        "id": "KoXWkeXjwbQH"
      },
      "source": [
        "Next, we'll load our pre-trained embeddings."
      ]
    },
    {
      "cell_type": "code",
      "execution_count": null,
      "metadata": {
        "id": "0wtNCFgcwbQH",
        "outputId": "c876df84-0fc7-44e6-bb3f-a422503514df",
        "colab": {
          "base_uri": "https://localhost:8080/"
        }
      },
      "outputs": [
        {
          "output_type": "execute_result",
          "data": {
            "text/plain": [
              "tensor([[-0.1117, -0.4966,  0.1631,  ...,  1.2647, -0.2753, -0.1325],\n",
              "        [-0.8555, -0.7208,  1.3755,  ...,  0.0825, -1.1314,  0.3997],\n",
              "        [-0.3398,  0.2094,  0.4635,  ..., -0.2339,  0.4730, -0.0288],\n",
              "        ...,\n",
              "        [ 0.1519,  0.9318,  1.4014,  ...,  0.8167, -0.6117,  1.5515],\n",
              "        [-0.2769,  1.9057,  0.9455,  ...,  0.0970,  1.1845,  0.7264],\n",
              "        [-1.5125,  0.5574, -0.4781,  ...,  1.3716, -1.6613,  1.2968]])"
            ]
          },
          "metadata": {},
          "execution_count": 81
        }
      ],
      "source": [
        "pretrained_embeddings = TEXT.vocab.vectors\n",
        "\n",
        "model.embedding.weight.data.copy_(pretrained_embeddings)"
      ]
    },
    {
      "cell_type": "markdown",
      "metadata": {
        "id": "lCF-JINhwbQH"
      },
      "source": [
        "Then zero the initial weights of the unknown and padding tokens."
      ]
    },
    {
      "cell_type": "code",
      "execution_count": null,
      "metadata": {
        "id": "at6QytmewbQH"
      },
      "outputs": [],
      "source": [
        "UNK_IDX = TEXT.vocab.stoi[TEXT.unk_token]\n",
        "\n",
        "model.embedding.weight.data[UNK_IDX] = torch.zeros(EMBEDDING_DIM)\n",
        "model.embedding.weight.data[PAD_IDX] = torch.zeros(EMBEDDING_DIM)"
      ]
    },
    {
      "cell_type": "markdown",
      "metadata": {
        "id": "cJ0b-8vqwbQI"
      },
      "source": [
        "`CrossEntropyLoss` performs a *softmax* function over our model outputs and the loss is given by the *cross entropy* between that and the label. It is used when our examples exclusively belong to one of $C$ classes\n"
      ]
    },
    {
      "cell_type": "code",
      "execution_count": null,
      "metadata": {
        "id": "ufxMCZsMwbQI"
      },
      "outputs": [],
      "source": [
        "import torch.optim as optim\n",
        "\n",
        "optimizer = optim.Adam(model.parameters())\n",
        "\n",
        "criterion = nn.CrossEntropyLoss()\n",
        "\n",
        "model = model.to(device)\n",
        "criterion = criterion.to(device)"
      ]
    },
    {
      "cell_type": "code",
      "execution_count": null,
      "metadata": {
        "id": "3x0-omd_wbQI"
      },
      "outputs": [],
      "source": [
        "def categorical_accuracy(preds, y):\n",
        "    \"\"\"\n",
        "    Returns accuracy per batch, i.e. if you get 8/10 right, this returns 0.8, NOT 8\n",
        "    \"\"\"\n",
        "    top_pred = preds.argmax(1, keepdim = True)\n",
        "    correct = top_pred.eq(y.view_as(top_pred)).sum()\n",
        "    acc = correct.float() / y.shape[0]\n",
        "    return acc"
      ]
    },
    {
      "cell_type": "markdown",
      "metadata": {
        "id": "lzwWVNzbwbQI"
      },
      "source": [
        "The training loop is similar to before, without the need to `squeeze` the model predictions as `CrossEntropyLoss` expects the input to be **[batch size, n classes]** and the label to be **[batch size]**.\n",
        "\n",
        "The label needs to be a `LongTensor`, which it is by default as we did not set the `dtype` to a `FloatTensor` as before."
      ]
    },
    {
      "cell_type": "code",
      "execution_count": null,
      "metadata": {
        "id": "4N8dMo6twbQI"
      },
      "outputs": [],
      "source": [
        "def train(model, iterator, optimizer, criterion):\n",
        "    \n",
        "    epoch_loss = 0\n",
        "    epoch_acc = 0\n",
        "    \n",
        "    model.train()\n",
        "    \n",
        "    for batch in iterator:\n",
        "        \n",
        "        optimizer.zero_grad()\n",
        "        \n",
        "        predictions = model(batch.text)\n",
        "        \n",
        "        loss = criterion(predictions, batch.label)\n",
        "        \n",
        "        acc = categorical_accuracy(predictions, batch.label)\n",
        "        \n",
        "        loss.backward()\n",
        "        \n",
        "        optimizer.step()\n",
        "        \n",
        "        epoch_loss += loss.item()\n",
        "        epoch_acc += acc.item()\n",
        "        \n",
        "    return epoch_loss / len(iterator), epoch_acc / len(iterator)"
      ]
    },
    {
      "cell_type": "markdown",
      "metadata": {
        "id": "cgx8u-RxwbQI"
      },
      "source": [
        "The evaluation loop."
      ]
    },
    {
      "cell_type": "code",
      "execution_count": null,
      "metadata": {
        "id": "Nc9_mTREwbQI"
      },
      "outputs": [],
      "source": [
        "def evaluate(model, iterator, criterion):\n",
        "    \n",
        "    epoch_loss = 0\n",
        "    epoch_acc = 0\n",
        "    \n",
        "    model.eval()\n",
        "    \n",
        "    with torch.no_grad():\n",
        "    \n",
        "        for batch in iterator:\n",
        "\n",
        "            predictions = model(batch.text)\n",
        "            \n",
        "            loss = criterion(predictions, batch.label)\n",
        "            \n",
        "            acc = categorical_accuracy(predictions, batch.label)\n",
        "\n",
        "            epoch_loss += loss.item()\n",
        "            epoch_acc += acc.item()\n",
        "        \n",
        "    return epoch_loss / len(iterator), epoch_acc / len(iterator)"
      ]
    },
    {
      "cell_type": "code",
      "execution_count": null,
      "metadata": {
        "id": "XP-bPFtswbQJ"
      },
      "outputs": [],
      "source": [
        "import time\n",
        "\n",
        "def epoch_time(start_time, end_time):\n",
        "    elapsed_time = end_time - start_time\n",
        "    elapsed_mins = int(elapsed_time / 60)\n",
        "    elapsed_secs = int(elapsed_time - (elapsed_mins * 60))\n",
        "    return elapsed_mins, elapsed_secs"
      ]
    },
    {
      "cell_type": "markdown",
      "metadata": {
        "id": "JXXaUNRrwbQJ"
      },
      "source": [
        "Next, we train our model."
      ]
    },
    {
      "cell_type": "code",
      "execution_count": null,
      "metadata": {
        "scrolled": true,
        "id": "cHU89UD-wbQJ",
        "outputId": "c8639dad-994a-4622-a1bc-aa5bcf6c546c",
        "colab": {
          "base_uri": "https://localhost:8080/"
        }
      },
      "outputs": [
        {
          "output_type": "stream",
          "name": "stdout",
          "text": [
            "Epoch: 01 | Epoch Time: 1m 18s\n",
            "\tTrain Loss: 1.302 | Train Acc: 55.50%\n",
            "\t Val. Loss: 1.086 |  Val. Acc: 63.47%\n",
            "Epoch: 02 | Epoch Time: 1m 16s\n",
            "\tTrain Loss: 0.896 | Train Acc: 69.57%\n",
            "\t Val. Loss: 0.937 |  Val. Acc: 67.48%\n",
            "Epoch: 03 | Epoch Time: 1m 16s\n",
            "\tTrain Loss: 0.757 | Train Acc: 73.81%\n",
            "\t Val. Loss: 0.882 |  Val. Acc: 70.29%\n",
            "Epoch: 04 | Epoch Time: 1m 16s\n",
            "\tTrain Loss: 0.656 | Train Acc: 77.63%\n",
            "\t Val. Loss: 0.864 |  Val. Acc: 70.75%\n",
            "Epoch: 05 | Epoch Time: 1m 16s\n",
            "\tTrain Loss: 0.575 | Train Acc: 80.35%\n",
            "\t Val. Loss: 0.864 |  Val. Acc: 70.91%\n"
          ]
        }
      ],
      "source": [
        "N_EPOCHS = 5\n",
        "\n",
        "best_valid_loss = float('inf')\n",
        "\n",
        "for epoch in range(N_EPOCHS):\n",
        "\n",
        "    start_time = time.time()\n",
        "    \n",
        "    train_loss, train_acc = train(model, train_iterator, optimizer, criterion)\n",
        "    valid_loss, valid_acc = evaluate(model, valid_iterator, criterion)\n",
        "    \n",
        "    end_time = time.time()\n",
        "\n",
        "    epoch_mins, epoch_secs = epoch_time(start_time, end_time)\n",
        "    \n",
        "    if valid_loss < best_valid_loss:\n",
        "        best_valid_loss = valid_loss\n",
        "        torch.save(model.state_dict(), 'tut5-model.pt')\n",
        "    \n",
        "    print(f'Epoch: {epoch+1:02} | Epoch Time: {epoch_mins}m {epoch_secs}s')\n",
        "    print(f'\\tTrain Loss: {train_loss:.3f} | Train Acc: {train_acc*100:.2f}%')\n",
        "    print(f'\\t Val. Loss: {valid_loss:.3f} |  Val. Acc: {valid_acc*100:.2f}%')"
      ]
    },
    {
      "cell_type": "markdown",
      "metadata": {
        "id": "flST4GV2wbQJ"
      },
      "source": [
        "Finally, let's run our model on the test set!"
      ]
    },
    {
      "cell_type": "code",
      "execution_count": null,
      "metadata": {
        "id": "U3fknygEwbQJ",
        "outputId": "0c85f5fa-e0b1-43cf-af0e-e4d7190f97bb",
        "colab": {
          "base_uri": "https://localhost:8080/"
        }
      },
      "outputs": [
        {
          "output_type": "stream",
          "name": "stdout",
          "text": [
            "Test Loss: 0.864 | Test Acc: 70.75%\n"
          ]
        }
      ],
      "source": [
        "model.load_state_dict(torch.load('tut5-model.pt'))\n",
        "\n",
        "test_loss, test_acc = evaluate(model, test_iterator, criterion)\n",
        "\n",
        "print(f'Test Loss: {test_loss:.3f} | Test Acc: {test_acc*100:.2f}%')"
      ]
    },
    {
      "cell_type": "markdown",
      "metadata": {
        "id": "hIUOD-f7wbQJ"
      },
      "source": [
        "We can now make a function that will predict the class of question given.\n",
        "\n",
        "We use the `argmax` to get the highest predicted class index. We then use this index with the label vocab to get the human readable label."
      ]
    },
    {
      "cell_type": "code",
      "execution_count": null,
      "metadata": {
        "id": "IAC2UaqcwbQJ"
      },
      "outputs": [],
      "source": [
        "import spacy\n",
        "nlp = spacy.load('en_core_web_sm')\n",
        "\n",
        "def predict_class(model, sentence, min_len = 4):\n",
        "    model.eval()\n",
        "    tokenized = [tok.text for tok in nlp.tokenizer(sentence)]\n",
        "    if len(tokenized) < min_len:\n",
        "        tokenized += ['<pad>'] * (min_len - len(tokenized))\n",
        "    indexed = [TEXT.vocab.stoi[t] for t in tokenized]\n",
        "    tensor = torch.LongTensor(indexed).to(device)\n",
        "    tensor = tensor.unsqueeze(1)\n",
        "    preds = model(tensor)\n",
        "    max_preds = preds.argmax(dim = 1)\n",
        "    return max_preds.item()"
      ]
    },
    {
      "cell_type": "markdown",
      "metadata": {
        "id": "l9qdCOGwwbQJ"
      },
      "source": [
        "Now, let's try it out on a few different event notes..."
      ]
    },
    {
      "cell_type": "code",
      "execution_count": null,
      "metadata": {
        "id": "EP3OqLm9wbQJ",
        "outputId": "56f702b6-53db-4e33-c5ea-8e65bc3b80ce",
        "colab": {
          "base_uri": "https://localhost:8080/"
        }
      },
      "outputs": [
        {
          "output_type": "stream",
          "name": "stdout",
          "text": [
            "Predicted class is: 0 = 7\n"
          ]
        }
      ],
      "source": [
        "pred_class = predict_class(model, \"A displaced woman was shot and killed by an unknown gunman after leaving the UN camp in Malakal town in South Sudan's Eastern Nile State\")\n",
        "print(f'Predicted class is: {pred_class} = {LABEL.vocab.itos[pred_class]}')"
      ]
    },
    {
      "cell_type": "code",
      "execution_count": null,
      "metadata": {
        "id": "Vz654eVywbQK",
        "outputId": "17aa9cdb-5d9c-4a30-c3ba-fc73b6e7f41c",
        "colab": {
          "base_uri": "https://localhost:8080/"
        }
      },
      "outputs": [
        {
          "output_type": "stream",
          "name": "stdout",
          "text": [
            "Predicted class is: 2 = 1\n"
          ]
        }
      ],
      "source": [
        "pred_class = predict_class(model, \"UNMISS went on patrol after hearing shooting nearby. Two women were injured and taken to the hospital. Since resumed fighting on 18/2/2014, Malakal was looted.\")\n",
        "print(f'Predicted class is: {pred_class} = {LABEL.vocab.itos[pred_class]}')"
      ]
    },
    {
      "cell_type": "code",
      "execution_count": null,
      "metadata": {
        "id": "aCKrZy58wbQK",
        "outputId": "8cabe410-1879-4085-8abc-01851339ab97",
        "colab": {
          "base_uri": "https://localhost:8080/"
        }
      },
      "outputs": [
        {
          "output_type": "stream",
          "name": "stdout",
          "text": [
            "Predicted class is: 0 = 7\n"
          ]
        }
      ],
      "source": [
        "pred_class = predict_class(model, \"White Army fighters shot and killed a man in Malakal when he refused to hand over his money and mobile phone\")\n",
        "print(f'Predicted class is: {pred_class} = {LABEL.vocab.itos[pred_class]}')"
      ]
    },
    {
      "cell_type": "code",
      "execution_count": null,
      "metadata": {
        "id": "WYeKa5DtwbQK",
        "outputId": "da172dfc-60a3-4b74-dd6e-38fa7082c707",
        "colab": {
          "base_uri": "https://localhost:8080/"
        }
      },
      "outputs": [
        {
          "output_type": "stream",
          "name": "stdout",
          "text": [
            "Predicted class is: 1 = 2\n"
          ]
        }
      ],
      "source": [
        "pred_class = predict_class(model, \"Military forces battle with an armed group believed to be a faction of SPLM-DC killing 7. The group are blamed for the killing of a Shilluk chief earlier.\")\n",
        "print(f'Predicted class is: {pred_class} = {LABEL.vocab.itos[pred_class]}')"
      ]
    },
    {
      "cell_type": "code",
      "source": [
        "from google.colab import drive\n",
        "drive.mount('/content/drive')"
      ],
      "metadata": {
        "colab": {
          "base_uri": "https://localhost:8080/"
        },
        "id": "sQ8-Nd-1JokG",
        "outputId": "ff40c821-c1cd-42df-d421-386be63c15aa"
      },
      "execution_count": null,
      "outputs": [
        {
          "output_type": "stream",
          "name": "stdout",
          "text": [
            "Drive already mounted at /content/drive; to attempt to forcibly remount, call drive.mount(\"/content/drive\", force_remount=True).\n"
          ]
        }
      ]
    },
    {
      "cell_type": "code",
      "source": [
        "from sklearn.metrics import classification_report\n",
        "\n",
        "y_pred = model.predict(x_test, batch_size=64, verbose=1)\n",
        "y_pred_bool = np.argmax(y_pred, axis=1)\n",
        "\n",
        "print(classification_report(y_test, y_pred_bool))"
      ],
      "metadata": {
        "id": "QprGzg65_Ili"
      },
      "execution_count": null,
      "outputs": []
    }
  ],
  "metadata": {
    "kernelspec": {
      "display_name": "Python 3",
      "language": "python",
      "name": "python3"
    },
    "language_info": {
      "codemirror_mode": {
        "name": "ipython",
        "version": 3
      },
      "file_extension": ".py",
      "mimetype": "text/x-python",
      "name": "python",
      "nbconvert_exporter": "python",
      "pygments_lexer": "ipython3",
      "version": "3.8.5"
    },
    "colab": {
      "name": "Multi-class-CNN.ipynb",
      "provenance": [],
      "collapsed_sections": []
    }
  },
  "nbformat": 4,
  "nbformat_minor": 0
}